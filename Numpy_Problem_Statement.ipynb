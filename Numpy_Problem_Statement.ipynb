{
  "cells": [
    {
      "cell_type": "code",
      "execution_count": 3,
      "metadata": {
        "id": "accvhpWtin9_"
      },
      "outputs": [
        {
          "data": {
            "text/plain": [
              "array([45, 56, 78, 87, 98])"
            ]
          },
          "execution_count": 3,
          "metadata": {},
          "output_type": "execute_result"
        }
      ],
      "source": [
        "# Create a numpy array from the list [45,56,78,87,98]\n",
        "\n",
        "import numpy as np\n",
        "\n",
        "dt = np.array([45,56,78,87,98])\n",
        "\n",
        "dt"
      ]
    },
    {
      "cell_type": "code",
      "execution_count": 6,
      "metadata": {
        "id": "NY9YoBWqin-D"
      },
      "outputs": [
        {
          "data": {
            "text/plain": [
              "dtype('int32')"
            ]
          },
          "execution_count": 6,
          "metadata": {},
          "output_type": "execute_result"
        }
      ],
      "source": [
        "# Get the type of the numpy array (created earlier) with type function \n",
        "# Also print the numpy array\n",
        "\n",
        "import numpy as np\n",
        "\n",
        "dt = np.array([45,56,78,87,98])\n",
        "\n",
        "dt.dtype\n"
      ]
    },
    {
      "cell_type": "code",
      "execution_count": 9,
      "metadata": {
        "id": "LhWmmqScin-E"
      },
      "outputs": [
        {
          "ename": "AttributeError",
          "evalue": "'numpy.ndarray' object has no attribute 'append'",
          "output_type": "error",
          "traceback": [
            "\u001b[1;31m---------------------------------------------------------------------------\u001b[0m",
            "\u001b[1;31mAttributeError\u001b[0m                            Traceback (most recent call last)",
            "Cell \u001b[1;32mIn[9], line 10\u001b[0m\n\u001b[0;32m      8\u001b[0m \u001b[39mfor\u001b[39;00m i \u001b[39min\u001b[39;00m \u001b[39mrange\u001b[39m(\u001b[39m1000001\u001b[39m):\n\u001b[0;32m      9\u001b[0m     i \u001b[39m=\u001b[39m i\u001b[39m+\u001b[39m\u001b[39m1\u001b[39m\n\u001b[1;32m---> 10\u001b[0m     a \u001b[39m=\u001b[39m a\u001b[39m.\u001b[39;49mappend(i)\n\u001b[0;32m     11\u001b[0m \u001b[39mprint\u001b[39m(a)\n",
            "\u001b[1;31mAttributeError\u001b[0m: 'numpy.ndarray' object has no attribute 'append'"
          ]
        }
      ],
      "source": [
        "# Create 2 numpy arrays as well as lists of size 1000000. \n",
        "# Perform element wise addition on both arrays and lists \n",
        "# Compare the computational time needed to perform the same\n",
        "\n",
        "import numpy as np\n",
        "a = np.array([])\n",
        "i = 1\n",
        "for i in range(1000001):\n",
        "    i = i+1\n",
        "    a = a.append(i)\n",
        "print(a)\n",
        "\n"
      ]
    },
    {
      "cell_type": "code",
      "execution_count": 10,
      "metadata": {},
      "outputs": [
        {
          "name": "stdout",
          "output_type": "stream",
          "text": [
            "NumPy arrays addition took 0.13988828659057617 seconds.\n",
            "Lists addition took 0.16451096534729004 seconds.\n"
          ]
        }
      ],
      "source": [
        "import numpy as np\n",
        "import time\n",
        "\n",
        "# create two NumPy arrays of size 1000000\n",
        "arr1 = np.random.rand(1000000)\n",
        "arr2 = np.random.rand(1000000)\n",
        "\n",
        "# create two lists of size 1000000\n",
        "lst1 = list(np.random.rand(1000000))\n",
        "lst2 = list(np.random.rand(1000000))\n",
        "\n",
        "# perform element-wise addition on the NumPy arrays and record the time taken\n",
        "start = time.time()\n",
        "arr_sum = arr1 + arr2\n",
        "end = time.time()\n",
        "print(f\"NumPy arrays addition took {end - start} seconds.\")\n",
        "\n",
        "# perform element-wise addition on the lists and record the time taken\n",
        "start = time.time()\n",
        "lst_sum = [lst1[i] + lst2[i] for i in range(len(lst1))]\n",
        "end = time.time()\n",
        "print(f\"Lists addition took {end - start} seconds.\")\n"
      ]
    },
    {
      "cell_type": "code",
      "execution_count": 14,
      "metadata": {},
      "outputs": [
        {
          "name": "stdout",
          "output_type": "stream",
          "text": [
            "Numpy arrays addition took 0.0035 seconds.\n",
            "Lists addition took 0.2489 seconds.\n"
          ]
        }
      ],
      "source": [
        "import numpy as np\n",
        "import time\n",
        "\n",
        "#create 2 numpy arrays of size 1000000\n",
        "arr1 = np.random.rand(1000000)\n",
        "arr2 = np.random.rand(1000000)\n",
        "\n",
        "#create 2 lists arrays of size 1000000\n",
        "lis1 = list(np.random.rand(1000000))\n",
        "lis2 = list(np.random.rand(1000000))\n",
        "\n",
        "#perform element-wise addition on the numpy arrays and record the time taken\n",
        "start = time.time()\n",
        "arr_sum = arr1+arr2\n",
        "end = time.time()\n",
        "print(f\"Numpy arrays addition took {round(end-start,4)} seconds.\")\n",
        "\n",
        "#perform element-wise addition on the list array and record the time taken\n",
        "start = time.time()\n",
        "for i in range(len(lis1)):\n",
        "    lis_sum = lis1[i]+lis2[i]\n",
        "end = time.time()\n",
        "print(f'Lists addition took {round(end-start,4)} seconds.')\n",
        "\n",
        "\n"
      ]
    },
    {
      "cell_type": "code",
      "execution_count": 17,
      "metadata": {
        "id": "hHD4yxH5in-E"
      },
      "outputs": [
        {
          "name": "stdout",
          "output_type": "stream",
          "text": [
            "[1 4 9 3 2]\n"
          ]
        }
      ],
      "source": [
        "# Create a numpy array from python list having elements 1,4,9,3,2\n",
        "\n",
        "import numpy as np\n",
        "\n",
        "# create a Python list containing the elements 1, 4, 9, 3, 2\n",
        "a = [1,4,9,3,2]\n",
        "\n",
        "#create a numpy array from the python list\n",
        "b = np.array(a)\n",
        "\n",
        "#print the numpy array\n",
        "print(b)\n"
      ]
    },
    {
      "cell_type": "code",
      "execution_count": 24,
      "metadata": {
        "id": "-8cr5IEqin-F"
      },
      "outputs": [
        {
          "name": "stdout",
          "output_type": "stream",
          "text": [
            "2\n",
            "[[0 0 0 0 0]\n",
            " [0 0 0 0 0]\n",
            " [0 0 0 0 0]]\n"
          ]
        }
      ],
      "source": [
        "# Create a matrix having all the elements as 0 having 3 rows and 5 columns\n",
        "\n",
        "import numpy as np\n",
        "\n",
        "# Create a matrix having all the elements as 0 having 3 rows and 5 columns\n",
        "a = np.array([[0,0,0,0,0],[0,0,0,0,0],[0,0,0,0,0]])\n",
        "\n",
        "print(a.ndim)\n",
        "\n",
        "print(a)\n"
      ]
    },
    {
      "cell_type": "code",
      "execution_count": 36,
      "metadata": {},
      "outputs": [
        {
          "name": "stdout",
          "output_type": "stream",
          "text": [
            "[[0 0 0 0 0]\n",
            " [0 0 0 0 0]\n",
            " [0 0 0 0 0]]\n"
          ]
        }
      ],
      "source": [
        "import numpy as np\n",
        "\n",
        "matrix = np.zeros(shape = (3,5),dtype= int)\n",
        "\n",
        "print(matrix)"
      ]
    },
    {
      "cell_type": "code",
      "execution_count": 35,
      "metadata": {
        "id": "Bo7QillZin-F"
      },
      "outputs": [
        {
          "name": "stdout",
          "output_type": "stream",
          "text": [
            "[[1 1 1]\n",
            " [1 1 1]\n",
            " [1 1 1]]\n"
          ]
        }
      ],
      "source": [
        "# Create a matrix having all the elements as 1 \n",
        "# having 3 rows and 3 columns having integer data type values\n",
        "\n",
        "import numpy as np\n",
        "\n",
        "matrix = np.ones(shape = (3,3),dtype = int)\n",
        "\n",
        "print(matrix)\n"
      ]
    },
    {
      "cell_type": "code",
      "execution_count": 28,
      "metadata": {
        "id": "dPpGlbAnin-G"
      },
      "outputs": [
        {
          "name": "stdout",
          "output_type": "stream",
          "text": [
            "[[8 8 8 8]\n",
            " [8 8 8 8]\n",
            " [8 8 8 8]\n",
            " [8 8 8 8]]\n"
          ]
        }
      ],
      "source": [
        "# Create a matrix having all the elements as 8 \n",
        "# having 4 rows and 4 columns having integer data type values\n",
        "\n",
        "import numpy as np\n",
        "matrix = np.full((4,4),8,dtype=int)\n",
        "print(matrix)\n"
      ]
    },
    {
      "cell_type": "code",
      "execution_count": 31,
      "metadata": {
        "id": "o73Juoayin-H"
      },
      "outputs": [
        {
          "name": "stdout",
          "output_type": "stream",
          "text": [
            "[['H' 'H' 'H' 'H']\n",
            " ['H' 'H' 'H' 'H']\n",
            " ['H' 'H' 'H' 'H']\n",
            " ['H' 'H' 'H' 'H']]\n"
          ]
        }
      ],
      "source": [
        "# Create a matrix having all the elements as 'Hello' \n",
        "# having 4 rows and 4 columns having integer data type values\n",
        "\n",
        "import numpy as np\n",
        "\n",
        "matrix = np.full((4,4),'Hello',dtype=str)\n",
        "\n",
        "print(matrix)\n"
      ]
    },
    {
      "cell_type": "code",
      "execution_count": null,
      "metadata": {
        "id": "QoffMJ4fin-H"
      },
      "outputs": [],
      "source": [
        "# Create a numpy array with values [3,5,\"NAas\",6] \n",
        "# demonstrate that values of a numpy array are always of the same data type\n",
        "\n",
        "import numpy as np\n",
        "\n",
        "a = np.array\n"
      ]
    },
    {
      "attachments": {
        "image.png": {
          "image/png": "[encoded data removed]"
        }
      },
      "cell_type": "markdown",
      "metadata": {},
      "source": [
        "![image.png](attachment:image.png)"
      ]
    },
    {
      "cell_type": "code",
      "execution_count": 39,
      "metadata": {
        "id": "AJ2UkF4Vin-I"
      },
      "outputs": [
        {
          "data": {
            "text/plain": [
              "array([[ 0.45204741,  0.95688052, -0.58113835,  0.59866894],\n",
              "       [ 0.03208389, -1.0372649 ,  0.24995877, -0.23852763],\n",
              "       [ 1.37545478,  0.38739925,  0.81984516, -0.89100216]])"
            ]
          },
          "execution_count": 39,
          "metadata": {},
          "output_type": "execute_result"
        }
      ],
      "source": [
        "# Create a numpy array of 3 rows and 4 columns filled with random normal values\n",
        "\n",
        "import numpy as np\n",
        "\n",
        "normal_values = np.random.randn(3,4)\n",
        "\n",
        "normal_values\n"
      ]
    },
    {
      "cell_type": "code",
      "execution_count": 2,
      "metadata": {
        "id": "H94zOyoSin-J"
      },
      "outputs": [
        {
          "data": {
            "text/plain": [
              "array([[0.12077851, 0.28526109, 0.94849887],\n",
              "       [0.99949659, 0.10419183, 0.7221475 ]])"
            ]
          },
          "execution_count": 2,
          "metadata": {},
          "output_type": "execute_result"
        }
      ],
      "source": [
        "# Create a numpy array of 2 rows and 3 columns filled with random values on a scale of 0 to 1\n",
        "\n",
        "import numpy as np\n",
        "\n",
        "arr = np.random.rand(2,3) #rand gives between 0 and 1\n",
        "\n",
        "arr"
      ]
    },
    {
      "cell_type": "code",
      "execution_count": 43,
      "metadata": {
        "id": "eAbDWgfLin-J"
      },
      "outputs": [
        {
          "data": {
            "text/plain": [
              "array([[[ 1.69052570e+00, -4.65937371e-01,  3.28201637e-02],\n",
              "        [ 4.07516283e-01, -7.88923029e-01,  2.06557291e-03],\n",
              "        [-8.90385858e-04, -1.75472431e+00,  1.01765801e+00]],\n",
              "\n",
              "       [[ 6.00498516e-01, -6.25428974e-01, -1.71548261e-01],\n",
              "        [ 5.05299374e-01, -2.61356415e-01, -2.42749079e-01],\n",
              "        [-1.45324141e+00,  5.54580312e-01,  1.23880905e-01]],\n",
              "\n",
              "       [[ 2.74459924e-01, -1.52652453e+00,  1.65069969e+00],\n",
              "        [ 1.54335535e-01, -3.87139943e-01,  2.02907222e+00],\n",
              "        [-4.53860299e-02, -1.45067870e+00, -4.05227855e-01]]])"
            ]
          },
          "execution_count": 43,
          "metadata": {},
          "output_type": "execute_result"
        }
      ],
      "source": [
        "# Create a numpy array of 3 dimensions \n",
        "# having 3 elements in every axis filled with random normal values\n",
        "# Use value of 7 for np.random.seed()\n",
        "\n",
        "\n",
        "import numpy as np\n",
        "\n",
        "np.random.seed(7)\n",
        "\n",
        "arr = np.random.randn(3,3,3)\n",
        "\n",
        "arr\n"
      ]
    },
    {
      "cell_type": "code",
      "execution_count": null,
      "metadata": {},
      "outputs": [],
      "source": [
        "import numpy as np\n",
        "\n",
        "# set the seed value for reproducibility\n",
        "np.random.seed(7)\n",
        "\n",
        "# create a 3-dimensional array with 3 elements in every axis\n",
        "arr = np.random.randn(3, 3, 3)\n",
        "\n",
        "# print the array\n",
        "print(arr)\n"
      ]
    },
    {
      "cell_type": "code",
      "execution_count": 9,
      "metadata": {
        "id": "Bs5jZrkhin-J"
      },
      "outputs": [
        {
          "data": {
            "text/plain": [
              "array([[6, 8, 4, 3],\n",
              "       [1, 4, 6, 7],\n",
              "       [5, 5, 7, 2]])"
            ]
          },
          "execution_count": 9,
          "metadata": {},
          "output_type": "execute_result"
        }
      ],
      "source": [
        "# Create a numpy array of 3 rows and 4 columns within some minimum and maximum values\n",
        "\n",
        "import numpy as np\n",
        "\n",
        "minimum = 1\n",
        "maximum = 10\n",
        "\n",
        "arr = np.random.randint(minimum,maximum,size = (3,4))\n",
        "\n",
        "arr"
      ]
    },
    {
      "cell_type": "code",
      "execution_count": 8,
      "metadata": {},
      "outputs": [
        {
          "name": "stdout",
          "output_type": "stream",
          "text": [
            "[[5 9 0 3]\n",
            " [8 4 6 5]\n",
            " [7 5 0 5]]\n"
          ]
        }
      ],
      "source": [
        "import numpy as np\n",
        "\n",
        "minimum = 0  # minimum value for the array elements\n",
        "maximum = 10  # maximum value for the array elements\n",
        "\n",
        "# Create a numpy array of shape (3, 4) with random whole numbers between minimum and maximum\n",
        "arr = np.random.randint(minimum, maximum+1, size=(3, 4))\n",
        "\n",
        "print(arr)\n"
      ]
    },
    {
      "cell_type": "code",
      "execution_count": null,
      "metadata": {},
      "outputs": [],
      "source": [
        "import numpy as np\n",
        "\n",
        "minimum = 0  # minimum value for the array elements\n",
        "maximum = 10  # maximum value for the array elements\n",
        "\n",
        "# Create a numpy array of shape (3, 4) with random values between minimum and maximum\n",
        "arr = np.random.uniform(minimum, maximum, size=(3, 4))\n",
        "\n",
        "print(arr)\n"
      ]
    },
    {
      "cell_type": "code",
      "execution_count": 11,
      "metadata": {
        "id": "xWWgLehvin-K"
      },
      "outputs": [
        {
          "data": {
            "text/plain": [
              "array([0, 2, 4])"
            ]
          },
          "execution_count": 11,
          "metadata": {},
          "output_type": "execute_result"
        }
      ],
      "source": [
        "# Use arange() function to get the values starting from a number upto a certain value \n",
        "# separated by a constant step size\n",
        "\n",
        "import numpy as np\n",
        "\n",
        "arr = np.arange(0,5,2)\n",
        "\n",
        "arr\n"
      ]
    },
    {
      "cell_type": "code",
      "execution_count": 12,
      "metadata": {
        "id": "3GsM6Z6Vin-K"
      },
      "outputs": [
        {
          "data": {
            "text/plain": [
              "[0, 0, 0, 1, 2, 3, 4, 5, 7, 7]"
            ]
          },
          "execution_count": 12,
          "metadata": {},
          "output_type": "execute_result"
        }
      ],
      "source": [
        "# Create a simple 1d numpy array from python list [1,2,3,4,5]\n",
        "# pad/add boundary to that numpy array with three 0s on left and two 7s at right\n",
        "\n",
        "\n",
        "import numpy as np\n",
        "\n",
        "a = [1,2,3,4,5]\n",
        "\n",
        "for i in range(3):\n",
        "    a.insert(0,0)\n",
        "\n",
        "for i in range(2):\n",
        "    a.append(7)\n",
        "\n",
        "a"
      ]
    },
    {
      "cell_type": "code",
      "execution_count": 16,
      "metadata": {
        "id": "MFBgiAooin-K"
      },
      "outputs": [
        {
          "data": {
            "text/plain": [
              "array([0, 0, 0, 1, 2, 3, 4, 5, 2, 0])"
            ]
          },
          "execution_count": 16,
          "metadata": {},
          "output_type": "execute_result"
        }
      ],
      "source": [
        "# Create a simple 1d numpy array from python list [1,2,3,4,5]\n",
        "# pad/add a boundary to that numpy array with 'linear_ramp' mode \n",
        "# having three values added on left and two values added at right\n",
        "\n",
        "a = [1,2,3,4,5]\n",
        "\n",
        "d = np.array(a)\n",
        "\n",
        "d_padded = np.pad(d,(3,2),mode='linear_ramp')\n",
        "\n",
        "d_padded\n",
        "\n"
      ]
    },
    {
      "cell_type": "code",
      "execution_count": 17,
      "metadata": {},
      "outputs": [
        {
          "name": "stdout",
          "output_type": "stream",
          "text": [
            "[0 0 0 1 2 3 4 5 2 0]\n"
          ]
        }
      ],
      "source": [
        "import numpy as np\n",
        "\n",
        "# Create a Python list\n",
        "lst = [1, 2, 3, 4, 5]\n",
        "\n",
        "# Convert the list to a numpy array\n",
        "arr = np.array(lst)\n",
        "\n",
        "# Add a boundary to the numpy array with 'linear_ramp' mode\n",
        "arr_padded = np.pad(arr, (3, 2), mode='linear_ramp')\n",
        "\n",
        "print(arr_padded)\n"
      ]
    },
    {
      "attachments": {},
      "cell_type": "markdown",
      "metadata": {},
      "source": [
        "Here, we first create a Python list [1, 2, 3, 4, 5] and then convert it to a numpy array using numpy.array(). We then use numpy.pad() to add a boundary to the numpy array with the linear_ramp mode.\n",
        "\n",
        "The numpy.pad() function takes two arguments: the array to be padded, and a tuple specifying the number of values to be added on each side of each axis. In this case, we want to add three values on the left and two values on the right, so we pass the tuple (3, 2).\n",
        "\n",
        "The mode parameter is set to linear_ramp, which pads the array with a linear ramp from the edge value to the first original value in the array for the left padding, and from the last original value to the edge value for the right padding.\n",
        "\n",
        "The resulting numpy array arr_padded has the values -1., 0., 1., 2., 3., 4., 5., 6., 7."
      ]
    },
    {
      "cell_type": "code",
      "execution_count": 20,
      "metadata": {
        "id": "xsH9Hw9qin-L"
      },
      "outputs": [
        {
          "data": {
            "text/plain": [
              "array([5, 5, 5, 1, 2, 3, 4, 5, 5, 5, 5])"
            ]
          },
          "execution_count": 20,
          "metadata": {},
          "output_type": "execute_result"
        }
      ],
      "source": [
        "# Create a simple 1d numpy array from python list [1,2,3,4,5]\n",
        "# pad/add a boundary to that numpy array with maximum value \n",
        "# having three values added on left and right\n",
        "\n",
        "a = [1,2,3,4,5]\n",
        "\n",
        "b = np.array(a)\n",
        "\n",
        "b_pad = np.pad(b,(3,3),mode='maximum')\n",
        "\n",
        "b_pad"
      ]
    },
    {
      "cell_type": "code",
      "execution_count": 29,
      "metadata": {
        "id": "XAipGiNcin-L"
      },
      "outputs": [
        {
          "name": "stdout",
          "output_type": "stream",
          "text": [
            "[[20 17 10 11  5]\n",
            " [19 13  2 22 10]\n",
            " [20  5  9 14 24]\n",
            " [18 15 15  6 16]\n",
            " [14 13 14 11 12]]\n"
          ]
        },
        {
          "data": {
            "text/plain": [
              "array([20, 19, 20, 18, 14, 17, 13,  5, 15, 13, 10,  2,  9, 15, 14, 11, 22,\n",
              "       14,  6, 11,  5, 10, 24, 16, 12])"
            ]
          },
          "execution_count": 29,
          "metadata": {},
          "output_type": "execute_result"
        }
      ],
      "source": [
        "# Create a numpy array of shape (5, 5) with values ranging from 0 to 25\n",
        "# flatten that array using np.ravel() function\n",
        "\n",
        "a = np.random.randint(0,25,size = (5,5))\n",
        "\n",
        "print(a)\n",
        "\n",
        "a = np.ravel(a,)\n",
        "\n",
        "a"
      ]
    },
    {
      "attachments": {},
      "cell_type": "markdown",
      "metadata": {},
      "source": [
        "# Examples\n",
        "It is equivalent to reshape(-1, order=order).\n",
        "\n",
        ">>> x = np.array([[1, 2, 3], [4, 5, 6]])\n",
        ">>> np.ravel(x)\n",
        "array([1, 2, 3, 4, 5, 6])\n",
        ">>> x.reshape(-1)\n",
        "array([1, 2, 3, 4, 5, 6])\n",
        ">>> np.ravel(x, order='F')\n",
        "array([1, 4, 2, 5, 3, 6])\n",
        "When order is 'A', it will preserve the array's 'C' or 'F' ordering:\n",
        "\n",
        ">>> np.ravel(x.T)\n",
        "array([1, 4, 2, 5, 3, 6])\n",
        ">>> np.ravel(x.T, order='A')\n",
        "array([1, 2, 3, 4, 5, 6])\n",
        "When order is 'K', it will preserve orderings that are neither 'C' nor 'F', but won't reverse axes:\n",
        "\n",
        ">>> a = np.arange(3)[::-1]; a\n",
        "array([2, 1, 0])\n",
        ">>> a.ravel(order='C')\n",
        "array([2, 1, 0])\n",
        ">>> a.ravel(order='K')\n",
        "array([2, 1, 0])\n",
        ">>> a = np.arange(12).reshape(2,3,2).swapaxes(1,2); a\n",
        "array([[[ 0,  2,  4],\n",
        "        [ 1,  3,  5]],\n",
        "       [[ 6,  8, 10],\n",
        "        [ 7,  9, 11]]])\n",
        ">>> a.ravel(order='C')\n",
        "array([ 0,  2,  4,  1,  3,  5,  6,  8, 10,  7,  9, 11])\n",
        ">>> a.ravel(order='K')\n",
        "array([ 0,  1,  2,  3,  4,  5,  6,  7,  8,  9, 10, 11])"
      ]
    },
    {
      "cell_type": "code",
      "execution_count": 36,
      "metadata": {
        "id": "vX01q2ZZin-L"
      },
      "outputs": [
        {
          "name": "stdout",
          "output_type": "stream",
          "text": [
            "number of time 1 is occuring: 3\n",
            "number of times 5 is occuring: 2\n"
          ]
        }
      ],
      "source": [
        "# Create a numpy array with a list [1,2,1,3,1,5,6,3,5,3,6,9,0,2]\n",
        "# count the number of times 1 and 5 are occuring\n",
        "\n",
        "\n",
        "a = [1,2,1,3,1,5,6,3,5,3,6,9,0,2]\n",
        "\n",
        "a = np.array(a)\n",
        "\n",
        "count_1 = np.count_nonzero(a == 1)\n",
        "count_2 = np.count_nonzero(a == 5)\n",
        "\n",
        "print(f\"number of time 1 is occuring: {count_1}\")\n",
        "print(f\"number of times 5 is occuring: {count_2}\")"
      ]
    },
    {
      "cell_type": "code",
      "execution_count": 35,
      "metadata": {},
      "outputs": [
        {
          "name": "stdout",
          "output_type": "stream",
          "text": [
            "Number of times 1 is occurring: 3\n",
            "Number of times 5 is occurring: 2\n"
          ]
        }
      ],
      "source": [
        "import numpy as np\n",
        "\n",
        "# Create a Python list\n",
        "lst = [1, 2, 1, 3, 1, 5, 6, 3, 5, 3, 6, 9, 0, 2]\n",
        "\n",
        "# Convert the list to a numpy array\n",
        "arr = np.array(lst)\n",
        "\n",
        "# Count the number of times 1 and 5 are occurring in the array\n",
        "count_1 = np.count_nonzero(arr == 1)\n",
        "count_5 = np.count_nonzero(arr == 5)\n",
        "\n",
        "print(f\"Number of times 1 is occurring: {count_1}\")\n",
        "print(f\"Number of times 5 is occurring: {count_5}\")\n"
      ]
    },
    {
      "cell_type": "code",
      "execution_count": 40,
      "metadata": {
        "id": "LEZi0bR0in-L"
      },
      "outputs": [
        {
          "name": "stdout",
          "output_type": "stream",
          "text": [
            "today date is: 2023-03-26\n",
            "yesterday date is: 2023-03-25\n",
            "Tomorrow's date: 2023-03-27\n"
          ]
        }
      ],
      "source": [
        "# Get today's date, yesterday's date and tomorrow's date through numpy.\n",
        "\n",
        "import numpy as np\n",
        "import time\n",
        "\n",
        "today = np.datetime64('today')\n",
        "print(f\"today date is: {today}\")\n",
        "\n",
        "yesterday = np.datetime64('today')-np.timedelta64(1,'D')\n",
        "print(f\"yesterday date is: {yesterday}\")\n",
        "\n",
        "tomorrow = np.datetime64('today') + np.timedelta64(1,'D')\n",
        "print(f\"Tomorrow's date: {tomorrow}\")\n"
      ]
    },
    {
      "cell_type": "code",
      "execution_count": 38,
      "metadata": {},
      "outputs": [
        {
          "name": "stdout",
          "output_type": "stream",
          "text": [
            "Today's date: 2023-03-26\n",
            "Yesterday's date: 2023-03-25\n",
            "Tomorrow's date: 2023-03-27\n"
          ]
        }
      ],
      "source": [
        "import numpy as np\n",
        "\n",
        "# Get today's date\n",
        "today = np.datetime64('today')\n",
        "print(f\"Today's date: {today}\")\n",
        "\n",
        "# Get yesterday's date\n",
        "yesterday = np.datetime64('today') - np.timedelta64(1, 'D')\n",
        "print(f\"Yesterday's date: {yesterday}\")\n",
        "\n",
        "# Get tomorrow's date\n",
        "tomorrow = np.datetime64('today') + np.timedelta64(1, 'D')\n",
        "print(f\"Tomorrow's date: {tomorrow}\")\n"
      ]
    },
    {
      "cell_type": "code",
      "execution_count": 49,
      "metadata": {},
      "outputs": [
        {
          "data": {
            "text/plain": [
              "25"
            ]
          },
          "execution_count": 49,
          "metadata": {},
          "output_type": "execute_result"
        }
      ],
      "source": [
        "import datetime\n",
        "\n",
        "right_now = datetime.datetime.now()\n",
        "\n",
        "right_now.day-1"
      ]
    },
    {
      "cell_type": "code",
      "execution_count": 45,
      "metadata": {
        "id": "OgV_zbpcin-M"
      },
      "outputs": [
        {
          "ename": "TypeError",
          "evalue": "int() argument must be a string, a bytes-like object or a real number, not 'dict'",
          "output_type": "error",
          "traceback": [
            "\u001b[1;31m---------------------------------------------------------------------------\u001b[0m",
            "\u001b[1;31mTypeError\u001b[0m                                 Traceback (most recent call last)",
            "Cell \u001b[1;32mIn[45], line 6\u001b[0m\n\u001b[0;32m      1\u001b[0m \u001b[39m# Create a numpy array with Name, Class and Height as the features\u001b[39;00m\n\u001b[0;32m      2\u001b[0m \u001b[39m# then sort the array according to height of students\u001b[39;00m\n\u001b[0;32m      4\u001b[0m \u001b[39mimport\u001b[39;00m \u001b[39mnumpy\u001b[39;00m \u001b[39mas\u001b[39;00m \u001b[39mnp\u001b[39;00m\n\u001b[1;32m----> 6\u001b[0m class_arr \u001b[39m=\u001b[39m np\u001b[39m.\u001b[39;49marray([\n\u001b[0;32m      7\u001b[0m     {\u001b[39m'\u001b[39;49m\u001b[39mname\u001b[39;49m\u001b[39m'\u001b[39;49m: \u001b[39m'\u001b[39;49m\u001b[39msai\u001b[39;49m\u001b[39m'\u001b[39;49m, \u001b[39m'\u001b[39;49m\u001b[39mclass\u001b[39;49m\u001b[39m'\u001b[39;49m: \u001b[39m'\u001b[39;49m\u001b[39m1st\u001b[39;49m\u001b[39m'\u001b[39;49m, \u001b[39m'\u001b[39;49m\u001b[39mheight\u001b[39;49m\u001b[39m'\u001b[39;49m: \u001b[39m180\u001b[39;49m},\n\u001b[0;32m      8\u001b[0m     {\u001b[39m'\u001b[39;49m\u001b[39mname\u001b[39;49m\u001b[39m'\u001b[39;49m: \u001b[39m'\u001b[39;49m\u001b[39msrinu\u001b[39;49m\u001b[39m'\u001b[39;49m, \u001b[39m'\u001b[39;49m\u001b[39mclass\u001b[39;49m\u001b[39m'\u001b[39;49m: \u001b[39m'\u001b[39;49m\u001b[39m2nd\u001b[39;49m\u001b[39m'\u001b[39;49m, \u001b[39m'\u001b[39;49m\u001b[39mheight\u001b[39;49m\u001b[39m'\u001b[39;49m: \u001b[39m172\u001b[39;49m},\n\u001b[0;32m      9\u001b[0m     {\u001b[39m'\u001b[39;49m\u001b[39mname\u001b[39;49m\u001b[39m'\u001b[39;49m: \u001b[39m'\u001b[39;49m\u001b[39msampath\u001b[39;49m\u001b[39m'\u001b[39;49m, \u001b[39m'\u001b[39;49m\u001b[39mclass\u001b[39;49m\u001b[39m'\u001b[39;49m: \u001b[39m'\u001b[39;49m\u001b[39m3rd\u001b[39;49m\u001b[39m'\u001b[39;49m, \u001b[39m'\u001b[39;49m\u001b[39mheight\u001b[39;49m\u001b[39m'\u001b[39;49m: \u001b[39m150\u001b[39;49m}\n\u001b[0;32m     10\u001b[0m ], dtype\u001b[39m=\u001b[39;49m[(\u001b[39m'\u001b[39;49m\u001b[39mname\u001b[39;49m\u001b[39m'\u001b[39;49m, \u001b[39m'\u001b[39;49m\u001b[39mU10\u001b[39;49m\u001b[39m'\u001b[39;49m), (\u001b[39m'\u001b[39;49m\u001b[39mclass\u001b[39;49m\u001b[39m'\u001b[39;49m, \u001b[39m'\u001b[39;49m\u001b[39mU10\u001b[39;49m\u001b[39m'\u001b[39;49m), (\u001b[39m'\u001b[39;49m\u001b[39mheight\u001b[39;49m\u001b[39m'\u001b[39;49m, \u001b[39mint\u001b[39;49m)])  \u001b[39m# specify the data types of each field\u001b[39;00m\n\u001b[0;32m     12\u001b[0m sorted_indices \u001b[39m=\u001b[39m np\u001b[39m.\u001b[39margsort(class_arr, order\u001b[39m=\u001b[39m\u001b[39m'\u001b[39m\u001b[39mheight\u001b[39m\u001b[39m'\u001b[39m)  \u001b[39m# get the sorted indices based on height\u001b[39;00m\n\u001b[0;32m     14\u001b[0m sorted_class_arr \u001b[39m=\u001b[39m class_arr[sorted_indices]  \u001b[39m# apply the sorted indices to the original array\u001b[39;00m\n",
            "\u001b[1;31mTypeError\u001b[0m: int() argument must be a string, a bytes-like object or a real number, not 'dict'"
          ]
        }
      ],
      "source": [
        "# Create a numpy array with Name, Class and Height as the features\n",
        "# then sort the array according to height of students\n",
        "\n",
        "import numpy as np\n",
        "\n",
        "class_arr = np.array([\n",
        "    {'name': 'sai', 'class': '1st', 'height': 180},\n",
        "    {'name': 'srinu', 'class': '2nd', 'height': 172},\n",
        "    {'name': 'sampath', 'class': '3rd', 'height': 150}\n",
        "], dtype=[('name', 'U10'), ('class', 'U10'), ('height', int)])  # specify the data types of each field\n",
        "\n",
        "sorted_indices = np.argsort(class_arr, order='height')  # get the sorted indices based on height\n",
        "\n",
        "sorted_class_arr = class_arr[sorted_indices]  # apply the sorted indices to the original array\n",
        "\n",
        "print(sorted_class_arr)\n",
        "\n"
      ]
    },
    {
      "cell_type": "code",
      "execution_count": 46,
      "metadata": {},
      "outputs": [
        {
          "ename": "TypeError",
          "evalue": "int() argument must be a string, a bytes-like object or a real number, not 'dict'",
          "output_type": "error",
          "traceback": [
            "\u001b[1;31m---------------------------------------------------------------------------\u001b[0m",
            "\u001b[1;31mTypeError\u001b[0m                                 Traceback (most recent call last)",
            "Cell \u001b[1;32mIn[46], line 3\u001b[0m\n\u001b[0;32m      1\u001b[0m \u001b[39mimport\u001b[39;00m \u001b[39mnumpy\u001b[39;00m \u001b[39mas\u001b[39;00m \u001b[39mnp\u001b[39;00m\n\u001b[1;32m----> 3\u001b[0m class_arr \u001b[39m=\u001b[39m np\u001b[39m.\u001b[39;49marray([\n\u001b[0;32m      4\u001b[0m     {\u001b[39m'\u001b[39;49m\u001b[39mname\u001b[39;49m\u001b[39m'\u001b[39;49m: \u001b[39m'\u001b[39;49m\u001b[39msai\u001b[39;49m\u001b[39m'\u001b[39;49m, \u001b[39m'\u001b[39;49m\u001b[39mclass\u001b[39;49m\u001b[39m'\u001b[39;49m: \u001b[39m'\u001b[39;49m\u001b[39m1st\u001b[39;49m\u001b[39m'\u001b[39;49m, \u001b[39m'\u001b[39;49m\u001b[39mheight\u001b[39;49m\u001b[39m'\u001b[39;49m: \u001b[39m180\u001b[39;49m},\n\u001b[0;32m      5\u001b[0m     {\u001b[39m'\u001b[39;49m\u001b[39mname\u001b[39;49m\u001b[39m'\u001b[39;49m: \u001b[39m'\u001b[39;49m\u001b[39msrinu\u001b[39;49m\u001b[39m'\u001b[39;49m, \u001b[39m'\u001b[39;49m\u001b[39mclass\u001b[39;49m\u001b[39m'\u001b[39;49m: \u001b[39m'\u001b[39;49m\u001b[39m2nd\u001b[39;49m\u001b[39m'\u001b[39;49m, \u001b[39m'\u001b[39;49m\u001b[39mheight\u001b[39;49m\u001b[39m'\u001b[39;49m: \u001b[39m172\u001b[39;49m},\n\u001b[0;32m      6\u001b[0m     {\u001b[39m'\u001b[39;49m\u001b[39mname\u001b[39;49m\u001b[39m'\u001b[39;49m: \u001b[39m'\u001b[39;49m\u001b[39msampath\u001b[39;49m\u001b[39m'\u001b[39;49m, \u001b[39m'\u001b[39;49m\u001b[39mclass\u001b[39;49m\u001b[39m'\u001b[39;49m: \u001b[39m'\u001b[39;49m\u001b[39m3rd\u001b[39;49m\u001b[39m'\u001b[39;49m, \u001b[39m'\u001b[39;49m\u001b[39mheight\u001b[39;49m\u001b[39m'\u001b[39;49m: \u001b[39m150\u001b[39;49m}\n\u001b[0;32m      7\u001b[0m ], dtype\u001b[39m=\u001b[39;49m[(\u001b[39m'\u001b[39;49m\u001b[39mname\u001b[39;49m\u001b[39m'\u001b[39;49m, \u001b[39m'\u001b[39;49m\u001b[39mU10\u001b[39;49m\u001b[39m'\u001b[39;49m), (\u001b[39m'\u001b[39;49m\u001b[39mclass\u001b[39;49m\u001b[39m'\u001b[39;49m, \u001b[39m'\u001b[39;49m\u001b[39mU10\u001b[39;49m\u001b[39m'\u001b[39;49m), (\u001b[39m'\u001b[39;49m\u001b[39mheight\u001b[39;49m\u001b[39m'\u001b[39;49m, \u001b[39mint\u001b[39;49m)])\n\u001b[0;32m      9\u001b[0m sorted_indices \u001b[39m=\u001b[39m np\u001b[39m.\u001b[39margsort(class_arr, order\u001b[39m=\u001b[39m\u001b[39m'\u001b[39m\u001b[39mheight\u001b[39m\u001b[39m'\u001b[39m)\n\u001b[0;32m     11\u001b[0m sorted_class_arr \u001b[39m=\u001b[39m class_arr[sorted_indices]\n",
            "\u001b[1;31mTypeError\u001b[0m: int() argument must be a string, a bytes-like object or a real number, not 'dict'"
          ]
        }
      ],
      "source": [
        "import numpy as np\n",
        "\n",
        "class_arr = np.array([\n",
        "    {'name': 'sai', 'class': '1st', 'height': 180},\n",
        "    {'name': 'srinu', 'class': '2nd', 'height': 172},\n",
        "    {'name': 'sampath', 'class': '3rd', 'height': 150}\n",
        "], dtype=[('name', 'U10'), ('class', 'U10'), ('height', int)])\n",
        "\n",
        "sorted_indices = np.argsort(class_arr, order='height')\n",
        "\n",
        "sorted_class_arr = class_arr[sorted_indices]\n",
        "\n",
        "print(sorted_class_arr)\n"
      ]
    },
    {
      "cell_type": "code",
      "execution_count": 47,
      "metadata": {
        "id": "SipRg5Huin-M"
      },
      "outputs": [
        {
          "name": "stdout",
          "output_type": "stream",
          "text": [
            "[2 0 4 1 3]\n"
          ]
        }
      ],
      "source": [
        "# Write a program to get the indices of sorted elements in a numpy array\n",
        "\n",
        "import numpy as np\n",
        "\n",
        "# Create a numpy array\n",
        "arr = np.array([2, 5, 1, 8, 4])\n",
        "\n",
        "# Get the sorted indices of the array\n",
        "sorted_indices = np.argsort(arr)\n",
        "\n",
        "# Print the sorted indices\n",
        "print(sorted_indices)\n"
      ]
    },
    {
      "cell_type": "code",
      "execution_count": 50,
      "metadata": {
        "id": "ekzLgOLBin-M"
      },
      "outputs": [
        {
          "name": "stdout",
          "output_type": "stream",
          "text": [
            "Outer product of a and b:\n",
            " [[ 4  5  6]\n",
            " [ 8 10 12]\n",
            " [12 15 18]]\n",
            "Cross product of a and b:\n",
            " [-3  6 -3]\n"
          ]
        }
      ],
      "source": [
        "# Write a program (using numpy) to compute the outer product\n",
        "# cross product of two vectors\n",
        "\n",
        "\n",
        "import numpy as np\n",
        "\n",
        "# Define two vectors\n",
        "a = np.array([1, 2, 3])\n",
        "b = np.array([4, 5, 6])\n",
        "\n",
        "# Compute the outer product of a and b\n",
        "outer_product = np.outer(a, b)\n",
        "print(\"Outer product of a and b:\\n\", outer_product)\n",
        "\n",
        "# Compute the cross product of a and b\n",
        "cross_product = np.cross(a, b)\n",
        "print(\"Cross product of a and b:\\n\", cross_product)\n"
      ]
    },
    {
      "cell_type": "code",
      "execution_count": 58,
      "metadata": {
        "id": "HOCCM18Zin-M"
      },
      "outputs": [
        {
          "name": "stdout",
          "output_type": "stream",
          "text": [
            "Sum of diagonal elements using np.trace():  15\n",
            "Sum of diagonal elements using np.diagonal():  15\n"
          ]
        }
      ],
      "source": [
        "# Write a program to get the sum of diagonal elements of a numpy array \n",
        "# using np.trace() and np.diagonal() both\n",
        "\n",
        "import numpy as np\n",
        "\n",
        "# create a 3x3 numpy array\n",
        "arr = np.array([[1, 2, 3], [4, 5, 6], [7, 8, 9]])\n",
        "\n",
        "# get the sum of the diagonal elements using np.trace()\n",
        "trace_sum = np.trace(arr)\n",
        "\n",
        "# get the sum of the diagonal elements using np.diagonal()\n",
        "diagonal_sum = np.diagonal(arr).sum()\n",
        "\n",
        "print(\"Sum of diagonal elements using np.trace(): \", trace_sum)\n",
        "print(\"Sum of diagonal elements using np.diagonal(): \", diagonal_sum)\n"
      ]
    },
    {
      "cell_type": "code",
      "execution_count": 52,
      "metadata": {},
      "outputs": [
        {
          "name": "stdout",
          "output_type": "stream",
          "text": [
            "[ 6  8 10 12]\n",
            "[-4 -4 -4 -4]\n",
            "[ 5 12 21 32]\n",
            "[0.2        0.33333333 0.42857143 0.5       ]\n",
            "[1 2 3 4]\n",
            "[    1    64  2187 65536]\n"
          ]
        }
      ],
      "source": [
        "import numpy\n",
        "\n",
        "\n",
        "a = numpy.array([1,2,3,4], int)\n",
        "b = numpy.array([5,6,7,8], int)\n",
        "\n",
        "#print(a + b)                     #[  6.   8.  10.  12.]\n",
        "print(numpy.add(a, b))           #[  6.   8.  10.  12.]\n",
        "\n",
        "#print(a - b)                     #[-4. -4. -4. -4.]\n",
        "print(numpy.subtract(a, b))      #[-4. -4. -4. -4.]\n",
        "\n",
        "#print(a * b)                     #[  5.  12.  21.  32.]\n",
        "print(numpy.multiply(a, b))      #[  5.  12.  21.  32.]\n",
        "\n",
        "#print(a / b)                     #[ 0.2         0.33333333  0.42857143  0.5      \n",
        "print(numpy.divide(a, b))        #[ 0.2         0.33333333  0.42857143  0.5       \n",
        "\n",
        "#print(a % b)                     #[ 1.  2.  3.  4.]\n",
        "print(numpy.mod(a, b))           #[ 1.  2.  3.  4.]\n",
        "\n",
        "#print(a**b)                      #[  1.00000000e+00   6.40000000e+01   2.18700000e+03   6.55360000e+04]\n",
        "print(numpy.power(a, b)) "
      ]
    },
    {
      "cell_type": "code",
      "execution_count": 53,
      "metadata": {},
      "outputs": [
        {
          "name": "stdout",
          "output_type": "stream",
          "text": [
            "[ 6  8 10 12]\n",
            "[-4 -4 -4 -4]\n",
            "[ 5 12 21 32]\n",
            "[0.2        0.33333333 0.42857143 0.5       ]\n",
            "[1 2 3 4]\n",
            "[    1    64  2187 65536]\n"
          ]
        }
      ],
      "source": [
        "import numpy\n",
        "\n",
        "a = numpy.array([1, 2, 3, 4], int)\n",
        "b = numpy.array([5, 6, 7, 8], int)\n",
        "\n",
        "print(numpy.add(a, b))             # [[ 6  8 10 12]]\n",
        "print(numpy.subtract(a, b))        # [[-4 -4 -4 -4]]\n",
        "print(numpy.multiply(a, b))        # [[ 5 12 21 32]]\n",
        "#print(numpy.divide(a, b))          # [[0 0 0 0]]\n",
        "print(numpy.divide(a.astype(float), b.astype(float)))  # [[0.2        0.33333333 0.42857143 0.5       ]]\n",
        "\n",
        "print(numpy.mod(a, b))             # [[1 2 3 4]]\n",
        "print(numpy.power(a, b))           # [[    1    64  2187 65536]]\n"
      ]
    },
    {
      "cell_type": "code",
      "execution_count": 54,
      "metadata": {},
      "outputs": [
        {
          "name": "stdout",
          "output_type": "stream",
          "text": [
            "[[ 6  8 10 12]]\n",
            "[[-4 -4 -4 -4]]\n",
            "[[ 5 12 21 32]]\n",
            "[[0 0 0 0]]\n",
            "[[1 2 3 4]]\n",
            "[[    1    64  2187 65536]]\n"
          ]
        }
      ],
      "source": [
        "import numpy\n",
        "n = 1\n",
        "m = 4\n",
        "a = numpy.array([1, 2, 3, 4], int)\n",
        "b = numpy.array([5, 6, 7, 8], int)\n",
        "\n",
        "print(numpy.array([numpy.add(a, b)]))             # [[ 6  8 10 12]]\n",
        "print(numpy.array([numpy.subtract(a, b)]))        # [[-4 -4 -4 -4]]\n",
        "print(numpy.array([numpy.multiply(a, b)]))        # [[ 5 12 21 32]]\n",
        "print(numpy.array([numpy.floor_divide(a, b)]))          # [[0 0 0 0]]\n",
        "#print(numpy.divide(a.astype(float), b.astype(float)))  # [[0.2        0.33333333 0.42857143 0.5       ]]\n",
        "\n",
        "print(numpy.array([numpy.mod(a, b)]))             # [[1 2 3 4]]\n",
        "print(numpy.array([numpy.power(a, b)])) "
      ]
    },
    {
      "cell_type": "code",
      "execution_count": 69,
      "metadata": {
        "id": "c-dHcNFnin-N"
      },
      "outputs": [
        {
          "name": "stdout",
          "output_type": "stream",
          "text": [
            "[[[ 1 68]\n",
            "  [16 28]]\n",
            "\n",
            " [[78 23]\n",
            "  [86  6]]\n",
            "\n",
            " [[28 52]\n",
            "  [24 54]]\n",
            "\n",
            " [[55 22]\n",
            "  [28 31]]]\n",
            "[[[ 0  1]\n",
            "  [ 2  3]]\n",
            "\n",
            " [[ 4  5]\n",
            "  [ 6  7]]\n",
            "\n",
            " [[ 8  9]\n",
            "  [10 11]]\n",
            "\n",
            " [[12 13]\n",
            "  [14 15]]]\n"
          ]
        }
      ],
      "source": [
        "# Crezate a simple numpy array with np.arange() function having 16 elements. \n",
        "# Change the shape of the actual array to (4,2,2)\n",
        "\n",
        "a = np.random.randint(1,100,size = 16)\n",
        "\n",
        "#a = np.ravel(a)\n",
        "b = np.arange(16)\n",
        "\n",
        "a = a.reshape(4,2,2)\n",
        "print(a)\n",
        "print(b = b.reshape(4,2,2))"
      ]
    },
    {
      "cell_type": "code",
      "execution_count": 77,
      "metadata": {
        "id": "ome7JhuHin-N"
      },
      "outputs": [
        {
          "ename": "AttributeError",
          "evalue": "'numpy.ndarray' object has no attribute 'append'",
          "output_type": "error",
          "traceback": [
            "\u001b[1;31m---------------------------------------------------------------------------\u001b[0m",
            "\u001b[1;31mAttributeError\u001b[0m                            Traceback (most recent call last)",
            "Cell \u001b[1;32mIn[77], line 7\u001b[0m\n\u001b[0;32m      5\u001b[0m \u001b[39mfor\u001b[39;00m i \u001b[39min\u001b[39;00m \u001b[39mrange\u001b[39m(\u001b[39m101\u001b[39m):\n\u001b[0;32m      6\u001b[0m     \u001b[39mif\u001b[39;00m i\u001b[39m%\u001b[39m\u001b[39m4\u001b[39m \u001b[39m==\u001b[39m \u001b[39m0\u001b[39m:\n\u001b[1;32m----> 7\u001b[0m         b\u001b[39m.\u001b[39;49mappend(i)\n\u001b[0;32m      8\u001b[0m b\n",
            "\u001b[1;31mAttributeError\u001b[0m: 'numpy.ndarray' object has no attribute 'append'"
          ]
        }
      ],
      "source": [
        "# Create a numpy array having integers divisible by 4 and less than 100\n",
        "\n",
        "a =np.arange(101)\n",
        "b = np.array([])\n",
        "for i in range(101):\n",
        "    if i%4 == 0:\n",
        "        b.append(i)\n",
        "b\n",
        "\n"
      ]
    },
    {
      "cell_type": "code",
      "execution_count": 79,
      "metadata": {},
      "outputs": [
        {
          "data": {
            "text/plain": [
              "array([  0,   4,   8,  12,  16,  20,  24,  28,  32,  36,  40,  44,  48,\n",
              "        52,  56,  60,  64,  68,  72,  76,  80,  84,  88,  92,  96, 100])"
            ]
          },
          "execution_count": 79,
          "metadata": {},
          "output_type": "execute_result"
        }
      ],
      "source": [
        "# Create a numpy array having integers divisible by 4 and less than 100\n",
        "\n",
        "a =np.arange(101)\n",
        "b = []\n",
        "for i in range(101):\n",
        "    if i%4 == 0:\n",
        "        b.append(i)\n",
        "b\n",
        "\n",
        "b = np.array(b)\n",
        "\n",
        "b\n",
        "\n"
      ]
    },
    {
      "cell_type": "code",
      "execution_count": 87,
      "metadata": {
        "id": "6RcIkJ0win-N"
      },
      "outputs": [
        {
          "name": "stdout",
          "output_type": "stream",
          "text": [
            "[42 71 79 83 30 83 78 43 43 26 46 51 20  2 69 41  5 10 11 16]\n",
            "[ 1 96 56 24 31 38 76 69 63 87 30 43 51 10 20 27 15 86 91 34]\n",
            "[10 20 30 43 51 69]\n"
          ]
        }
      ],
      "source": [
        "# Write a code to get common values in 2 numpy arrays\n",
        "\n",
        "a = np.random.randint(0,100,size = 20) # create two arrays\n",
        "b = np.random.randint(0,100,size = 20)\n",
        "\n",
        "c = np.intersect1d(a, b) # get common values\n",
        "print(a)\n",
        "print(b)\n",
        "print(c)\n",
        "\n"
      ]
    },
    {
      "cell_type": "code",
      "execution_count": 91,
      "metadata": {
        "id": "pjjhDD20in-N"
      },
      "outputs": [
        {
          "name": "stdout",
          "output_type": "stream",
          "text": [
            "[89 80 14 71  4 68  8 38 42 37 71 96 24 80 10 83 91 67 97 33]\n",
            "[ 40  56 151  42 159  24  27 180  81  26 120 149  59   6  26  74  96  82\n",
            " 158 164]\n"
          ]
        }
      ],
      "source": [
        "# Check the data type of above two arrays and convert the data type to floating points\n",
        "\n",
        "a = np.random.randint(0,100,size=20,dtype=int)\n",
        "b = np.random.randint(0,200,size=20,dtype=int)\n",
        "\n",
        "print(a)\n",
        "print(b)"
      ]
    },
    {
      "cell_type": "code",
      "execution_count": 92,
      "metadata": {},
      "outputs": [
        {
          "name": "stdout",
          "output_type": "stream",
          "text": [
            "int32\n",
            "int32\n"
          ]
        }
      ],
      "source": [
        "import numpy as np\n",
        "\n",
        "# create two arrays\n",
        "array1 = np.array([1, 2, 3, 4, 5])\n",
        "array2 = np.array([3, 4, 5, 6, 7])\n",
        "\n",
        "# check data type of arrays\n",
        "print(array1.dtype)  # int64\n",
        "print(array2.dtype)  # int64\n"
      ]
    },
    {
      "cell_type": "code",
      "execution_count": 96,
      "metadata": {
        "id": "TWr2mfWYin-N"
      },
      "outputs": [
        {
          "name": "stdout",
          "output_type": "stream",
          "text": [
            "1\n",
            "2\n",
            "[ 0  1  2  3  4  5  6  7  8  9 10 11 12 13 14 15 16 17 18 19 20 21 22 23\n",
            " 24 25 26 27 28 29 30 31 32 33 34 35 36 37 38 39 40 41 42 43 44 45 46 47\n",
            " 48 49 50]\n",
            "[ 0  1  2  3  4  5  6  7  8  9 10 11 12 13 14 15 16 17 18 19 20]\n",
            "[24 25 26 27 28 29 30 31 32 33 34 35 36 37 38 39 40 41 42 43 44 45 46 47]\n"
          ]
        }
      ],
      "source": [
        "# Write a code to get numbers from 0 to 50 using np.arange(). \n",
        "# Get the first 20 elements in the given array. \n",
        "# Also, get all the elements from the 2nd row. \n",
        "# Also, get the element at position (1, 2)\n",
        "\n",
        "a = np.arange(51)\n",
        "\n",
        "b = a[0:21]\n",
        "\n",
        "c = a[24:48]\n",
        "\n",
        "print(a[1])\n",
        "\n",
        "print(a[2])\n",
        "\n",
        "print(a)\n",
        "print(b)\n",
        "print(c)\n",
        "\n",
        "\n",
        "\n"
      ]
    },
    {
      "cell_type": "code",
      "execution_count": 97,
      "metadata": {},
      "outputs": [
        {
          "name": "stdout",
          "output_type": "stream",
          "text": [
            "First 20 elements: [ 0  1  2  3  4  5  6  7  8  9 10 11 12 13 14 15 16 17 18 19]\n",
            "All elements from the 2nd row: [10 11 12 13 14 15 16 17 18 19]\n",
            "Element at position (1, 2): 12\n"
          ]
        }
      ],
      "source": [
        "import numpy as np\n",
        "\n",
        "# create an array with numbers from 0 to 50\n",
        "arr = np.arange(51)\n",
        "\n",
        "# get the first 20 elements\n",
        "first_20 = arr[:20]\n",
        "\n",
        "# get all elements from the 2nd row\n",
        "row_2 = arr[10:20]\n",
        "\n",
        "# get the element at position (1, 2)\n",
        "elem_12 = arr[12]\n",
        "\n",
        "# print the results\n",
        "print(\"First 20 elements:\", first_20)\n",
        "print(\"All elements from the 2nd row:\", row_2)\n",
        "print(\"Element at position (1, 2):\", elem_12)\n"
      ]
    },
    {
      "cell_type": "code",
      "execution_count": 99,
      "metadata": {
        "id": "E8PNac1-in-N"
      },
      "outputs": [
        {
          "name": "stdout",
          "output_type": "stream",
          "text": [
            "Number of dimensions: 2\n"
          ]
        }
      ],
      "source": [
        "# Get the number of dimensions from a numpy array\n",
        "\n",
        "import numpy as np\n",
        "\n",
        "# create a 2D array\n",
        "arr = np.array([[1, 2], [3, 4]])\n",
        "\n",
        "# get the number of dimensions\n",
        "num_dims = arr.ndim\n",
        "\n",
        "# print the number of dimensions\n",
        "print(\"Number of dimensions:\", num_dims)\n"
      ]
    },
    {
      "cell_type": "code",
      "execution_count": 100,
      "metadata": {
        "id": "gu0r1nfdin-O"
      },
      "outputs": [
        {
          "name": "stdout",
          "output_type": "stream",
          "text": [
            "Number of rows: 3\n",
            "Number of columns: 2\n"
          ]
        }
      ],
      "source": [
        "# Get the number of rows and columns of a dataframe using shape argument\n",
        "\n",
        "import pandas as pd\n",
        "\n",
        "# create a DataFrame\n",
        "df = pd.DataFrame({'Name': ['Alice', 'Bob', 'Charlie'], 'Age': [25, 30, 35]})\n",
        "\n",
        "# get the number of rows and columns\n",
        "num_rows, num_cols = df.shape\n",
        "\n",
        "# print the number of rows and columns\n",
        "print(\"Number of rows:\", num_rows)\n",
        "print(\"Number of columns:\", num_cols)\n"
      ]
    },
    {
      "cell_type": "code",
      "execution_count": 101,
      "metadata": {
        "id": "4zklAXZAin-O"
      },
      "outputs": [
        {
          "data": {
            "text/plain": [
              "101"
            ]
          },
          "execution_count": 101,
          "metadata": {},
          "output_type": "execute_result"
        }
      ],
      "source": [
        "# Get the total number of elements in a numpy array using size argument\n",
        "\n",
        "a = np.arange(101)\n",
        "\n",
        "b = len(a)\n",
        "\n",
        "b"
      ]
    },
    {
      "cell_type": "code",
      "execution_count": 102,
      "metadata": {},
      "outputs": [
        {
          "name": "stdout",
          "output_type": "stream",
          "text": [
            "Total number of elements: 4\n"
          ]
        }
      ],
      "source": [
        "import numpy as np\n",
        "\n",
        "# create a 2D array\n",
        "arr = np.array([[1, 2], [3, 4]])\n",
        "\n",
        "# get the total number of elements\n",
        "num_elements = arr.size\n",
        "\n",
        "# print the total number of elements\n",
        "print(\"Total number of elements:\", num_elements)\n"
      ]
    },
    {
      "cell_type": "code",
      "execution_count": 104,
      "metadata": {
        "id": "SzN_XOv9in-O"
      },
      "outputs": [
        {
          "name": "stdout",
          "output_type": "stream",
          "text": [
            "[653 453  18 155 552 853  26 119 141 159]\n",
            "18\n",
            "853\n"
          ]
        }
      ],
      "source": [
        "# Get the minimum and maximum values in a numpy array using min() and max() function\n",
        "\n",
        "a = np.random.randint(0,1000,size=10)\n",
        "\n",
        "a_min = min(a)\n",
        "a_max = max(a)\n",
        "print(a)\n",
        "print(a_min)\n",
        "print(a_max)"
      ]
    },
    {
      "cell_type": "code",
      "execution_count": 105,
      "metadata": {},
      "outputs": [
        {
          "name": "stdout",
          "output_type": "stream",
          "text": [
            "Minimum value: 1\n",
            "Maximum value: 8\n"
          ]
        }
      ],
      "source": [
        "import numpy as np\n",
        "\n",
        "# create an array\n",
        "arr = np.array([5, 2, 7, 1, 8])\n",
        "\n",
        "# get the minimum and maximum values\n",
        "min_val = arr.min()\n",
        "max_val = arr.max()\n",
        "\n",
        "# print the minimum and maximum values\n",
        "print(\"Minimum value:\", min_val)\n",
        "print(\"Maximum value:\", max_val)\n"
      ]
    },
    {
      "cell_type": "code",
      "execution_count": 106,
      "metadata": {
        "id": "46iBuIHTin-O"
      },
      "outputs": [
        {
          "name": "stdout",
          "output_type": "stream",
          "text": [
            "[[712  53 802 800 161 126 234]\n",
            " [547 206 944 433 652 622 129]\n",
            " [281 176  73 810 680  74 120]\n",
            " [298 302 211 482 320 975 576]\n",
            " [350  76 719 550 750 846 680]\n",
            " [128 690  90 219 528 911 600]\n",
            " [ 44 951 370 213 224 742 194]]\n"
          ]
        }
      ],
      "source": [
        "# Create a 2D array with shape (7, 7). \n",
        "# Keep 1 on the border and remaining values should be filled with 0\n",
        "\n",
        "a = np.random.randint(0,1000,size=(7,7))\n",
        "print(a)\n"
      ]
    },
    {
      "cell_type": "code",
      "execution_count": 114,
      "metadata": {},
      "outputs": [
        {
          "data": {
            "text/plain": [
              "array([[1, 1, 1, 1, 1, 1, 1],\n",
              "       [1, 0, 0, 0, 0, 0, 1],\n",
              "       [1, 0, 0, 0, 0, 0, 1],\n",
              "       [1, 0, 0, 0, 0, 0, 1],\n",
              "       [1, 0, 0, 0, 0, 0, 1],\n",
              "       [1, 0, 0, 0, 0, 0, 1],\n",
              "       [1, 1, 1, 1, 1, 1, 1]])"
            ]
          },
          "execution_count": 114,
          "metadata": {},
          "output_type": "execute_result"
        }
      ],
      "source": [
        "a = np.zeros((7,7),dtype=int)\n",
        "\n",
        "a[0,:] =1\n",
        "a[-1,:]=1\n",
        "a[:,0] = 1\n",
        "a[:,-1]=1\n",
        "a"
      ]
    },
    {
      "cell_type": "code",
      "execution_count": 107,
      "metadata": {},
      "outputs": [
        {
          "name": "stdout",
          "output_type": "stream",
          "text": [
            "[[1. 1. 1. 1. 1. 1. 1.]\n",
            " [1. 0. 0. 0. 0. 0. 1.]\n",
            " [1. 0. 0. 0. 0. 0. 1.]\n",
            " [1. 0. 0. 0. 0. 0. 1.]\n",
            " [1. 0. 0. 0. 0. 0. 1.]\n",
            " [1. 0. 0. 0. 0. 0. 1.]\n",
            " [1. 1. 1. 1. 1. 1. 1.]]\n"
          ]
        }
      ],
      "source": [
        "import numpy as np\n",
        "\n",
        "# create a 2D array with shape (7, 7)\n",
        "arr = np.zeros((7, 7))\n",
        "\n",
        "# fill the border with 1\n",
        "arr[0, :] = 1  # first row\n",
        "arr[-1, :] = 1  # last row\n",
        "arr[:, 0] = 1  # first column\n",
        "arr[:, -1] = 1  # last column\n",
        "\n",
        "# print the array\n",
        "print(arr)\n"
      ]
    },
    {
      "cell_type": "code",
      "execution_count": 116,
      "metadata": {
        "id": "5-nLV8zHin-P"
      },
      "outputs": [
        {
          "data": {
            "text/plain": [
              "array([[6, 0, 5],\n",
              "       [8, 5, 0],\n",
              "       [6, 4, 5]])"
            ]
          },
          "execution_count": 116,
          "metadata": {},
          "output_type": "execute_result"
        }
      ],
      "source": [
        "# Create an array of random integer values with shape (3, 3). \n",
        "# Add a boundary of width 2 around the actual array filled with value 0. \n",
        "# (Hint : Use np.pad())\n",
        "\n",
        "a = np.random.randint(0,10,size= (3,3))\n",
        "a\n",
        "\n"
      ]
    },
    {
      "cell_type": "code",
      "execution_count": 117,
      "metadata": {},
      "outputs": [
        {
          "name": "stdout",
          "output_type": "stream",
          "text": [
            "Original array:\n",
            " [[3 4 7]\n",
            " [0 3 1]\n",
            " [2 5 1]]\n",
            "Padded array:\n",
            " [[0 0 0 0 0 0 0]\n",
            " [0 0 0 0 0 0 0]\n",
            " [0 0 3 4 7 0 0]\n",
            " [0 0 0 3 1 0 0]\n",
            " [0 0 2 5 1 0 0]\n",
            " [0 0 0 0 0 0 0]\n",
            " [0 0 0 0 0 0 0]]\n"
          ]
        }
      ],
      "source": [
        "import numpy as np\n",
        "\n",
        "# create a 2D array of random integer values with shape (3, 3)\n",
        "arr = np.random.randint(0, 10, size=(3, 3))\n",
        "\n",
        "# pad the array with a boundary of width 2 and fill with 0\n",
        "padded_arr = np.pad(arr, pad_width=2, mode='constant', constant_values=0)\n",
        "\n",
        "# print the original and padded arrays\n",
        "print(\"Original array:\\n\", arr)\n",
        "print(\"Padded array:\\n\", padded_arr)\n"
      ]
    },
    {
      "cell_type": "code",
      "execution_count": 118,
      "metadata": {
        "id": "JwyeFpdcin-P"
      },
      "outputs": [
        {
          "name": "stdout",
          "output_type": "stream",
          "text": [
            "[[0 1 0 1 0 1 0 1]\n",
            " [1 0 1 0 1 0 1 0]\n",
            " [0 1 0 1 0 1 0 1]\n",
            " [1 0 1 0 1 0 1 0]\n",
            " [0 1 0 1 0 1 0 1]\n",
            " [1 0 1 0 1 0 1 0]\n",
            " [0 1 0 1 0 1 0 1]\n",
            " [1 0 1 0 1 0 1 0]]\n"
          ]
        }
      ],
      "source": [
        "# Create a checkerboard pattern with 0s and 1s in an numpy array object. \n",
        "# Size of the checkerboard has to be (8, 8)\n",
        "\n",
        "import numpy as np\n",
        "\n",
        "# create a checkerboard pattern with 0s and 1s\n",
        "arr = np.tile(np.array([[0, 1], [1, 0]]), (4, 4))\n",
        "\n",
        "# print the checkerboard pattern\n",
        "print(arr)\n"
      ]
    },
    {
      "cell_type": "code",
      "execution_count": 119,
      "metadata": {
        "id": "aqE-eNYAin-P"
      },
      "outputs": [
        {
          "name": "stdout",
          "output_type": "stream",
          "text": [
            "[[0.51378425 0.49352346 0.97579632 1.09485581 1.36800311]\n",
            " [0.60300927 0.58908454 0.9481151  1.1108278  1.20313161]]\n"
          ]
        }
      ],
      "source": [
        "# Create 2 random matrices with shape (2, 3) and (3, 5). Perform matrix multiplication\n",
        "import numpy as np\n",
        "\n",
        "# create two random matrices\n",
        "mat1 = np.random.rand(2, 3)\n",
        "mat2 = np.random.rand(3, 5)\n",
        "\n",
        "# perform matrix multiplication\n",
        "result = mat1.dot(mat2)\n",
        "\n",
        "# print the result\n",
        "print(result)\n"
      ]
    },
    {
      "cell_type": "code",
      "execution_count": 120,
      "metadata": {
        "id": "u1gULt-gin-P"
      },
      "outputs": [
        {
          "name": "stdout",
          "output_type": "stream",
          "text": [
            "[('Biology', 85), ('Physics', 92), ('Maths', 95), ('Chemistry', 97)]\n"
          ]
        }
      ],
      "source": [
        "# We have marks of a particular student in Physics, Chemistry, Mathematics and Biology in a tuple format as follows :\n",
        "# ('Physics', 92), ('Chemistry', 97), ('Maths', 95), ('Biology', 85)\n",
        "#You are expected to sort the tuples in ascending order of the marks in different subjects using lambda function.\n",
        "\n",
        "marks = [('Physics', 92), ('Chemistry', 97), ('Maths', 95), ('Biology', 85)]\n",
        "\n",
        "# sort tuples by marks in ascending order\n",
        "sorted_marks = sorted(marks, key=lambda x: x[1])\n",
        "\n",
        "# print sorted tuples\n",
        "print(sorted_marks)\n"
      ]
    },
    {
      "cell_type": "code",
      "execution_count": null,
      "metadata": {
        "id": "04ZkJSlCin-Q"
      },
      "outputs": [],
      "source": [
        "# Create 2 random matrices with shape (2, 3) and (3, 5). Perform matrix multiplication\n",
        "import numpy as np\n",
        "\n",
        "# create two random matrices\n",
        "mat1 = np.random.randint(0,10,(2, 3))\n",
        "mat2 = np.random.randint(0,10,(3, 5))\n",
        "\n",
        "# perform matrix multiplication\n",
        "result = mat1.dot(mat2)\n",
        "\n",
        "# print the result\n",
        "print(result)\n"
      ]
    },
    {
      "cell_type": "code",
      "execution_count": 121,
      "metadata": {
        "id": "HYww38oWin-Q"
      },
      "outputs": [
        {
          "name": "stdout",
          "output_type": "stream",
          "text": [
            "[[58 26 74 54 22]\n",
            " [34 11 41 38 13]]\n"
          ]
        }
      ],
      "source": [
        "# Create 2 random matrices with shape (2, 3) and (3, 5). Perform matrix multiplication\n",
        "import numpy as np\n",
        "\n",
        "# create two random matrices\n",
        "a = np.random.randint(0,10,(2, 3))\n",
        "b = np.random.randint(0,10,(3, 5))\n",
        "\n",
        "# perform matrix multiplication\n",
        "result = np.dot(a,b)\n",
        "\n",
        "# print the result\n",
        "print(result)\n"
      ]
    },
    {
      "cell_type": "code",
      "execution_count": null,
      "metadata": {
        "id": "RQ3TMlgEin-Q"
      },
      "outputs": [],
      "source": []
    },
    {
      "cell_type": "code",
      "execution_count": null,
      "metadata": {
        "id": "2UTa1bLCin-Q"
      },
      "outputs": [],
      "source": []
    }
  ],
  "metadata": {
    "colab": {
      "provenance": []
    },
    "kernelspec": {
      "display_name": "Python 3",
      "language": "python",
      "name": "python3"
    },
    "language_info": {
      "codemirror_mode": {
        "name": "ipython",
        "version": 3
      },
      "file_extension": ".py",
      "mimetype": "text/x-python",
      "name": "python",
      "nbconvert_exporter": "python",
      "pygments_lexer": "ipython3",
      "version": "3.10.8"
    }
  },
  "nbformat": 4,
  "nbformat_minor": 0
}
