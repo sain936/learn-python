{
 "cells": [
  {
   "cell_type": "code",
   "execution_count": 1,
   "id": "7654da5f",
   "metadata": {},
   "outputs": [
    {
     "data": {
      "text/plain": [
       "array([1, 2, 3, 4])"
      ]
     },
     "execution_count": 1,
     "metadata": {},
     "output_type": "execute_result"
    }
   ],
   "source": [
    "import numpy\n",
    "\n",
    "a = numpy.array([1,2,3,4])\n",
    "\n",
    "a\n"
   ]
  },
  {
   "cell_type": "code",
   "execution_count": null,
   "id": "2909574f",
   "metadata": {},
   "outputs": [],
   "source": [
    "import numpy\n",
    "\n",
    "a = numpy.array([1,2,3,4])\n",
    "\n",
    "type(a)\n"
   ]
  },
  {
   "cell_type": "code",
   "execution_count": null,
   "id": "af68afb2",
   "metadata": {},
   "outputs": [],
   "source": [
    "import numpy as np\n",
    "\n",
    "a = np.array([1,2,3,4])\n",
    "\n",
    "type(a)"
   ]
  },
  {
   "cell_type": "code",
   "execution_count": null,
   "id": "152aa44e",
   "metadata": {},
   "outputs": [],
   "source": [
    "import numpy as np\n",
    "\n",
    "a = np.array((1,2,3,4))\n",
    "\n",
    "a"
   ]
  },
  {
   "cell_type": "markdown",
   "id": "e0a25ea5",
   "metadata": {},
   "source": [
    "Array dimensions"
   ]
  },
  {
   "cell_type": "code",
   "execution_count": 2,
   "id": "d535b3e6",
   "metadata": {},
   "outputs": [
    {
     "name": "stdout",
     "output_type": "stream",
     "text": [
      "0\n",
      "1\n",
      "2\n",
      "3\n"
     ]
    }
   ],
   "source": [
    "import numpy as np\n",
    "\n",
    "a = np.array(40) #zero dimention\n",
    "b = np.array([1,2,3]) #one dimension\n",
    "c = np.array([[1,2,3],[4,5,6]]) #two dimension\n",
    "d = np.array([[[1,2],[2,3]],[[4,5],[5,6]]]) #three dimension\n",
    "print(a.ndim)\n",
    "print(b.ndim)\n",
    "print(c.ndim)\n",
    "print(d.ndim)"
   ]
  },
  {
   "cell_type": "markdown",
   "id": "88f29b36",
   "metadata": {},
   "source": [
    "How to acess the element"
   ]
  },
  {
   "cell_type": "code",
   "execution_count": null,
   "id": "0ebf7e42",
   "metadata": {},
   "outputs": [],
   "source": [
    "import numpy as np\n",
    "\n",
    "a = np.array([15,16,17,18])\n",
    "\n",
    "a[2]"
   ]
  },
  {
   "cell_type": "code",
   "execution_count": null,
   "id": "b9ad9c4c",
   "metadata": {},
   "outputs": [],
   "source": [
    "import numpy as np\n",
    "\n",
    "a = np.array([[15,16],[17,18]])\n",
    "\n",
    "a[1][0]"
   ]
  },
  {
   "cell_type": "code",
   "execution_count": null,
   "id": "937c9b06",
   "metadata": {},
   "outputs": [],
   "source": [
    "import numpy as np\n",
    "\n",
    "a = np.array([[15,16],[17,18]])\n",
    "\n",
    "a[1,0]"
   ]
  },
  {
   "cell_type": "code",
   "execution_count": null,
   "id": "efba5162",
   "metadata": {},
   "outputs": [],
   "source": [
    "a[0,0]"
   ]
  },
  {
   "cell_type": "code",
   "execution_count": null,
   "id": "c3ea6337",
   "metadata": {},
   "outputs": [],
   "source": [
    "a[1,0]"
   ]
  },
  {
   "cell_type": "code",
   "execution_count": null,
   "id": "6a5702f7",
   "metadata": {},
   "outputs": [],
   "source": [
    "d = np.array([[[1,2],[2,3]],[[4,5],[5,6]]]) #three dimension"
   ]
  },
  {
   "cell_type": "code",
   "execution_count": null,
   "id": "a6ff8872",
   "metadata": {},
   "outputs": [],
   "source": [
    "d[0,0,0]"
   ]
  },
  {
   "cell_type": "code",
   "execution_count": null,
   "id": "dd5c59b8",
   "metadata": {},
   "outputs": [],
   "source": [
    "d[1,0,0]"
   ]
  },
  {
   "cell_type": "code",
   "execution_count": null,
   "id": "189371eb",
   "metadata": {},
   "outputs": [],
   "source": [
    "a = np.array([[[1,2,3],[4,5,6]],[[7,8,9],[10,11,12]]])"
   ]
  },
  {
   "cell_type": "code",
   "execution_count": null,
   "id": "ee9194c1",
   "metadata": {},
   "outputs": [],
   "source": [
    "a[1,0,2]"
   ]
  },
  {
   "cell_type": "code",
   "execution_count": null,
   "id": "1a81a548",
   "metadata": {},
   "outputs": [],
   "source": [
    "a[1]"
   ]
  },
  {
   "cell_type": "code",
   "execution_count": null,
   "id": "a4092aa3",
   "metadata": {},
   "outputs": [],
   "source": [
    "a[1][0]"
   ]
  },
  {
   "cell_type": "markdown",
   "id": "9da717f3",
   "metadata": {},
   "source": [
    "# slicing"
   ]
  },
  {
   "cell_type": "code",
   "execution_count": null,
   "id": "9cfdb0f4",
   "metadata": {},
   "outputs": [],
   "source": [
    "e = np.array([1,2,3,4,5,6,7,8])\n",
    "e[1:6:2]"
   ]
  },
  {
   "cell_type": "code",
   "execution_count": null,
   "id": "0c9227e6",
   "metadata": {},
   "outputs": [],
   "source": [
    "#negative slicing "
   ]
  },
  {
   "cell_type": "code",
   "execution_count": null,
   "id": "04c4657b",
   "metadata": {},
   "outputs": [],
   "source": [
    "e[::-1]"
   ]
  },
  {
   "cell_type": "code",
   "execution_count": null,
   "id": "67a2009b",
   "metadata": {},
   "outputs": [],
   "source": [
    "e[8:6:-1]"
   ]
  },
  {
   "cell_type": "code",
   "execution_count": null,
   "id": "ac3ccd91",
   "metadata": {},
   "outputs": [],
   "source": [
    "f = np.array([[1,2,3,4],[5,6,7,8]])\n",
    "f[:,1:4]"
   ]
  },
  {
   "cell_type": "code",
   "execution_count": null,
   "id": "a141d318",
   "metadata": {},
   "outputs": [],
   "source": [
    "f = np.array([[1,2,3,4],[5,6,7,8]])\n",
    "\n",
    "f.dtype"
   ]
  },
  {
   "cell_type": "markdown",
   "id": "614effef",
   "metadata": {},
   "source": [
    "# Difference between copy and view?"
   ]
  },
  {
   "cell_type": "code",
   "execution_count": null,
   "id": "d8d19e55",
   "metadata": {},
   "outputs": [],
   "source": [
    "e = np.array([1,2,3,4,5,6,7,8])\n",
    "\n",
    "b = e\n",
    "\n",
    "b"
   ]
  },
  {
   "cell_type": "code",
   "execution_count": null,
   "id": "ef948828",
   "metadata": {},
   "outputs": [],
   "source": [
    "e = np.array([1,2,3,4,5,6,7,8])\n",
    "\n",
    "b = e\n",
    "\n",
    "e = np.array([1,2,3,4,5])\n",
    "\n",
    "b"
   ]
  },
  {
   "cell_type": "code",
   "execution_count": null,
   "id": "b2cf5c72",
   "metadata": {},
   "outputs": [],
   "source": [
    "e = np.array([1,2,3,4,5,6,7,8])\n",
    "\n",
    "b = e\n",
    "\n",
    "e[0] = 101\n",
    "\n",
    "b"
   ]
  },
  {
   "cell_type": "code",
   "execution_count": null,
   "id": "af958a37",
   "metadata": {},
   "outputs": [],
   "source": [
    "e = np.array([1,2,3,4,5,6,7,8])\n",
    "\n",
    "b = e.view()\n",
    "print(b)\n",
    "e[0] = 101\n",
    "b"
   ]
  },
  {
   "cell_type": "code",
   "execution_count": null,
   "id": "848a9f59",
   "metadata": {},
   "outputs": [],
   "source": [
    "e = np.array([1,2,3,4,5,6,7,8])\n",
    "\n",
    "b = e.copy()\n",
    "print(b)\n",
    "e[0] = 101\n",
    "b"
   ]
  },
  {
   "cell_type": "code",
   "execution_count": null,
   "id": "d586893f",
   "metadata": {},
   "outputs": [],
   "source": []
  },
  {
   "cell_type": "markdown",
   "id": "a50d98c1",
   "metadata": {},
   "source": [
    "view create a link which changes a value if we change a previous variable.\n",
    "\n",
    "in copy any thing wont change"
   ]
  },
  {
   "cell_type": "markdown",
   "id": "704e1b0e",
   "metadata": {},
   "source": [
    "# shapes"
   ]
  },
  {
   "cell_type": "code",
   "execution_count": null,
   "id": "457de9bf",
   "metadata": {},
   "outputs": [],
   "source": [
    "e.shape"
   ]
  },
  {
   "cell_type": "code",
   "execution_count": null,
   "id": "0fe84d45",
   "metadata": {},
   "outputs": [],
   "source": [
    "import numpy as np\n",
    "\n",
    "a = np.array(40) #zero dimention\n",
    "b = np.array([1,2,3]) #one dimension\n",
    "c = np.array([[1,2,3],[4,5,6]]) #two dimension\n",
    "d = np.array([[[1,2],[2,3]],[[4,5],[5,6]]]) #three dimension\n",
    "print(a.shape)\n",
    "print(b.shape)\n",
    "print(c.shape)\n",
    "print(d.shape)"
   ]
  },
  {
   "cell_type": "code",
   "execution_count": null,
   "id": "a96c80af",
   "metadata": {},
   "outputs": [],
   "source": [
    "a = np.array([1,2,3],ndmin = 3) #one dimension\n",
    "print(a)\n",
    "a.shape"
   ]
  },
  {
   "cell_type": "code",
   "execution_count": null,
   "id": "7f27a83d",
   "metadata": {},
   "outputs": [],
   "source": [
    "a = np.array([1,2,3],ndmin = 5) #one dimension\n",
    "print(a)\n",
    "a.shape"
   ]
  },
  {
   "cell_type": "code",
   "execution_count": null,
   "id": "d017e609",
   "metadata": {},
   "outputs": [],
   "source": [
    "\n",
    "e = np.array([1,2,3,4,5,6])\n",
    "\n",
    "e = e.reshape(3,2)\n",
    "\n",
    "e"
   ]
  },
  {
   "cell_type": "markdown",
   "id": "180372f3",
   "metadata": {},
   "source": [
    "# Reshape"
   ]
  },
  {
   "cell_type": "code",
   "execution_count": null,
   "id": "18f12459",
   "metadata": {},
   "outputs": [],
   "source": [
    "e = np.array([1,2,3,4,5])\n",
    "\n",
    "e = e.reshape(1,5)\n",
    "\n",
    "e"
   ]
  },
  {
   "cell_type": "code",
   "execution_count": null,
   "id": "f3f5e40c",
   "metadata": {},
   "outputs": [],
   "source": [
    "e = np.array([1,2,3,4,5])\n",
    "\n",
    "e = e.reshape(5,1)\n",
    "\n",
    "e"
   ]
  },
  {
   "cell_type": "code",
   "execution_count": null,
   "id": "882ae6be",
   "metadata": {},
   "outputs": [],
   "source": [
    "e = np.array([1,2,3,4,5,6])\n",
    "\n",
    "e = e.reshape(2,3)\n",
    "\n",
    "e"
   ]
  },
  {
   "cell_type": "markdown",
   "id": "1c21ab5f",
   "metadata": {},
   "source": [
    "axb = ab always"
   ]
  },
  {
   "cell_type": "code",
   "execution_count": null,
   "id": "2e858e3a",
   "metadata": {},
   "outputs": [],
   "source": [
    "e = np.array([1,2,3,4,5,6,7,8])\n",
    "\n",
    "e = e.reshape(2,2,2)\n",
    "\n",
    "e"
   ]
  },
  {
   "cell_type": "code",
   "execution_count": null,
   "id": "9fea11ec",
   "metadata": {},
   "outputs": [],
   "source": [
    "e = np.array([1,2,3,4,5,6,7,8,9,10,11,12])\n",
    "\n",
    "e = e.reshape(3,2,2)\n",
    "\n",
    "e"
   ]
  },
  {
   "cell_type": "code",
   "execution_count": null,
   "id": "4b9ea9c0",
   "metadata": {},
   "outputs": [],
   "source": [
    "e = np.array([1,2,3,4,5,6,7,8,9,10,11,12])\n",
    "\n",
    "e = e.reshape(4,3)\n",
    "\n",
    "e"
   ]
  },
  {
   "cell_type": "code",
   "execution_count": null,
   "id": "a5d7c5ff",
   "metadata": {},
   "outputs": [],
   "source": [
    "e = np.array([1,2,3,4,5,6,7,8,9,10,11,12])\n",
    "\n",
    "e = e.reshape(3,4)\n",
    "\n",
    "e"
   ]
  },
  {
   "cell_type": "code",
   "execution_count": null,
   "id": "5660b4c4",
   "metadata": {},
   "outputs": [],
   "source": [
    "e = np.array([1,2,3,4,5,6,7,8,9,10,11,12])\n",
    "\n",
    "e = e.reshape(2,2,3)\n",
    "\n",
    "e"
   ]
  },
  {
   "cell_type": "markdown",
   "id": "b97d245e",
   "metadata": {},
   "source": [
    "# Flattening of arrays"
   ]
  },
  {
   "cell_type": "code",
   "execution_count": null,
   "id": "fc8ff3f7",
   "metadata": {},
   "outputs": [],
   "source": [
    "\n",
    "e = np.array([[ 1,  2,  3,  4],\n",
    "       [ 5,  6,  7,  8],\n",
    "       [ 9, 10, 11, 12]])\n",
    "\n",
    "\n",
    "e = e.reshape(-1)\n",
    "\n",
    "e"
   ]
  },
  {
   "cell_type": "markdown",
   "id": "3d28f610",
   "metadata": {},
   "source": [
    "# iteration"
   ]
  },
  {
   "cell_type": "code",
   "execution_count": null,
   "id": "db3f6a43",
   "metadata": {},
   "outputs": [],
   "source": [
    "e = np.array([1,2,3,4,5,6,7,8,9,10,11,12])\n",
    "\n",
    "for i in e:\n",
    "    print(i)"
   ]
  },
  {
   "cell_type": "code",
   "execution_count": null,
   "id": "f8d3f0de",
   "metadata": {},
   "outputs": [],
   "source": [
    "e = np.array([[1,2,3,4,5,6],[7,8,9,10,11,12]]) #scaler elements\n",
    "\n",
    "for i in e:\n",
    "    print(i)"
   ]
  },
  {
   "cell_type": "code",
   "execution_count": null,
   "id": "e18506ed",
   "metadata": {},
   "outputs": [],
   "source": [
    "e = np.array([[1,2,3,4,5,6],[7,8,9,10,11,12]]) #scaler elements\n",
    "\n",
    "for i in e:\n",
    "    for j in i:\n",
    "        print(j)"
   ]
  },
  {
   "cell_type": "code",
   "execution_count": null,
   "id": "d7a314e1",
   "metadata": {},
   "outputs": [],
   "source": [
    "e = np.array([[[1,2,3],[4,5,6]],[[7,8,9],[10,11,12]]]) #scaler elements\n",
    "\n",
    "for i in e:\n",
    "    for j in i:\n",
    "        for k in j:\n",
    "            print(k)"
   ]
  },
  {
   "cell_type": "code",
   "execution_count": null,
   "id": "c0390e88",
   "metadata": {},
   "outputs": [],
   "source": [
    "e = np.array([[[1,2,3],[4,5,6]],[[7,8,9],[10,11,12]]]) #scaler elements\n",
    "\n",
    "for i in np.nditer(e):\n",
    "    print(i)"
   ]
  },
  {
   "cell_type": "code",
   "execution_count": null,
   "id": "e24ef287",
   "metadata": {},
   "outputs": [],
   "source": [
    "e = np.array([[[1,2,3],[4,5,6]],[[7,8,9],[10,11,12]]]) #scaler elements\n",
    "\n",
    "e = e.reshape(-1)\n",
    "for i in e:\n",
    "    print(i)"
   ]
  },
  {
   "cell_type": "code",
   "execution_count": null,
   "id": "a28022de",
   "metadata": {},
   "outputs": [],
   "source": [
    "e = np.array([[[1,2,3],[4,5,6]],[[7,8,9],[10,11,12]]]) #scaler elements\n",
    "\n",
    "for i in np.nditer(e[0]):\n",
    "    print(i)"
   ]
  },
  {
   "cell_type": "code",
   "execution_count": null,
   "id": "dadfde60",
   "metadata": {},
   "outputs": [],
   "source": [
    "e = np.array([[[1,2,3],[4,5,6]],[[7,8,9],[10,11,12]]]) #scaler elements\n",
    "\n",
    "for i in np.nditer(e[:,0]):\n",
    "    print(i)"
   ]
  },
  {
   "cell_type": "markdown",
   "id": "a78fc9e0",
   "metadata": {},
   "source": [
    "# Joining two lists"
   ]
  },
  {
   "cell_type": "code",
   "execution_count": null,
   "id": "efb274b1",
   "metadata": {},
   "outputs": [],
   "source": [
    "a = [1,2,3]\n",
    "b = [4.5,6]\n",
    "\n",
    "c = a+b\n",
    "\n",
    "c"
   ]
  },
  {
   "cell_type": "code",
   "execution_count": null,
   "id": "4b515d7b",
   "metadata": {},
   "outputs": [],
   "source": [
    "a = np.array([1,2,3])\n",
    "b = np.array([4,5,6])\n",
    "\n",
    "a+b"
   ]
  },
  {
   "cell_type": "code",
   "execution_count": null,
   "id": "4fc6d572",
   "metadata": {},
   "outputs": [],
   "source": [
    "a = np.array([1,2,3])\n",
    "b = np.array([4,5,6])\n",
    "\n",
    "c = np.concatenate((a,b))\n",
    "\n",
    "c"
   ]
  },
  {
   "cell_type": "code",
   "execution_count": 2,
   "id": "04981ab4",
   "metadata": {},
   "outputs": [
    {
     "data": {
      "text/plain": [
       "array([[1, 2],\n",
       "       [3, 4],\n",
       "       [4, 5],\n",
       "       [6, 7]])"
      ]
     },
     "execution_count": 2,
     "metadata": {},
     "output_type": "execute_result"
    }
   ],
   "source": [
    "import numpy as np\n",
    "a = np.array([[1,2],[3,4]])\n",
    "b = np.array([[4,5],[6,7]])\n",
    "\n",
    "c = np.concatenate((a,b))\n",
    "\n",
    "c"
   ]
  },
  {
   "cell_type": "code",
   "execution_count": 6,
   "id": "c017f4d3",
   "metadata": {},
   "outputs": [
    {
     "name": "stdout",
     "output_type": "stream",
     "text": [
      "[[1 2]\n",
      " [5 6]]\n",
      "[1 2 5 6]\n"
     ]
    }
   ],
   "source": [
    "import numpy as np\n",
    "\n",
    "# Create two 2x2 arrays\n",
    "arr1 = np.array([[1, 2]])\n",
    "arr2 = np.array([[5, 6]])\n",
    "\n",
    "# Concatenate the two arrays horizontally\n",
    "arr = np.concatenate((arr1, arr2))\n",
    "\n",
    "# Print the concatenated array and its flattened version\n",
    "print(arr)\n",
    "print(arr.flatten())\n"
   ]
  },
  {
   "cell_type": "code",
   "execution_count": 3,
   "id": "f5edcd58",
   "metadata": {},
   "outputs": [
    {
     "data": {
      "text/plain": [
       "array([[1, 2, 4, 5],\n",
       "       [3, 4, 6, 7]])"
      ]
     },
     "execution_count": 3,
     "metadata": {},
     "output_type": "execute_result"
    }
   ],
   "source": [
    "a = np.array([[1,2],[3,4]])\n",
    "b = np.array([[4,5],[6,7]])\n",
    "\n",
    "c = np.concatenate((a,b),axis =1)\n",
    "\n",
    "c"
   ]
  },
  {
   "cell_type": "code",
   "execution_count": 7,
   "id": "275964d9",
   "metadata": {},
   "outputs": [
    {
     "name": "stdout",
     "output_type": "stream",
     "text": [
      "[[1 3]\n",
      " [2 4]]\n",
      "[1 2 3 4]\n"
     ]
    }
   ],
   "source": [
    "import numpy\n",
    "\n",
    "row_col = numpy.array(input().strip().split(),int)\n",
    "n = row_col[0]\n",
    "m = row_col[1]\n",
    "arr1 = numpy.array(input().strip().split(),int)\n",
    "arr2 = numpy.array(input().strip().split(),int)\n",
    "\n",
    "arr3 = numpy.concatenate(([arr1],[arr2]))\n",
    "\n",
    "arr = numpy.transpose(arr3)\n",
    "\n",
    "print(arr)\n",
    "\n",
    "print(arr3.flatten())\n",
    "\n",
    "\n"
   ]
  },
  {
   "cell_type": "code",
   "execution_count": null,
   "id": "3d1574e8",
   "metadata": {},
   "outputs": [],
   "source": [
    "import numpy as np\n",
    "\n",
    "# Take input of the matrix\n",
    "n, m = map(int, input().split())\n",
    "matrix = []\n",
    "for i in range(n):\n",
    "    row = list(map(int, input().split()))\n",
    "    matrix.append(row)\n",
    "\n",
    "# Convert the matrix to a NumPy array\n",
    "arr = np.array(matrix)\n",
    "\n",
    "# Print the transpose and flattened versions of the array\n",
    "print(arr.T)\n",
    "print(arr.flatten())"
   ]
  },
  {
   "attachments": {
    "image.png": {
     "image/png": "[encoded data removed]"
    }
   },
   "cell_type": "markdown",
   "id": "48fb209f",
   "metadata": {},
   "source": [
    "![image.png](attachment:image.png)"
   ]
  },
  {
   "cell_type": "code",
   "execution_count": null,
   "id": "9799edec",
   "metadata": {},
   "outputs": [],
   "source": [
    "a = np.array([[1,2],[3,4]])\n",
    "b = np.array([[4,5],[6,7]])\n",
    "\n",
    "c = np.concatenate((a,b[::-1]),axis =1)\n",
    "\n",
    "c"
   ]
  },
  {
   "cell_type": "code",
   "execution_count": null,
   "id": "fa9dd932",
   "metadata": {},
   "outputs": [],
   "source": [
    "a = np.array([1,2,3,4])\n",
    "b = np.array([4,5,6,7])\n",
    "c = np.stack((a,b))\n",
    "c"
   ]
  },
  {
   "cell_type": "code",
   "execution_count": null,
   "id": "045807e4",
   "metadata": {},
   "outputs": [],
   "source": [
    "a = np.array([1,2,3,4])\n",
    "b = np.array([4,5,6,7])\n",
    "c = np.stack((a,b),axis=1)\n",
    "c"
   ]
  },
  {
   "cell_type": "code",
   "execution_count": null,
   "id": "b796c8ba",
   "metadata": {},
   "outputs": [],
   "source": [
    "a = np.array([[1,2],[3,4]])\n",
    "b = np.array([[4,5],[6,7]])\n",
    "\n",
    "c = np.stack((a,b))\n",
    "\n",
    "c"
   ]
  },
  {
   "cell_type": "code",
   "execution_count": null,
   "id": "b6bb0c08",
   "metadata": {},
   "outputs": [],
   "source": [
    "a = np.array([[1,2],[3,4]])\n",
    "b = np.array([[4,5],[6,7]])\n",
    "\n",
    "c = np.stack((a,b),axis=1)\n",
    "\n",
    "c"
   ]
  },
  {
   "cell_type": "code",
   "execution_count": null,
   "id": "9f4ca1ae",
   "metadata": {},
   "outputs": [],
   "source": [
    "a = np.array([1,2,3,4])\n",
    "b = np.array([4,5,6,7])\n",
    "\n",
    "c = np.hstack((a,b))\n",
    "\n",
    "c"
   ]
  },
  {
   "attachments": {
    "image.png": {
     "image/png": "[encoded data removed]"
    }
   },
   "cell_type": "markdown",
   "id": "cf27d0ab",
   "metadata": {},
   "source": [
    "# ![image.png](attachment:image.png)"
   ]
  },
  {
   "cell_type": "code",
   "execution_count": null,
   "id": "7aacbd44",
   "metadata": {},
   "outputs": [],
   "source": [
    "a = np.array([1,2,3,4])\n",
    "b = np.array([4,5,6,7])\n",
    "\n",
    "c = np.vstack((a,b))\n",
    "\n",
    "c"
   ]
  },
  {
   "cell_type": "code",
   "execution_count": null,
   "id": "ce8bbf87",
   "metadata": {},
   "outputs": [],
   "source": [
    "a = np.array([1,2,3,4])\n",
    "b = np.array([4,5,6,7])\n",
    "\n",
    "c = np.dstack((a,b))\n",
    "\n",
    "c"
   ]
  },
  {
   "cell_type": "code",
   "execution_count": null,
   "id": "8322ab48",
   "metadata": {},
   "outputs": [],
   "source": [
    "a = np.array([[1,2],[3,4]])\n",
    "b = np.array([[4,5],[6,7]])\n",
    "\n",
    "c = np.stack((a,b))\n",
    "\n",
    "c"
   ]
  },
  {
   "cell_type": "code",
   "execution_count": null,
   "id": "d26554af",
   "metadata": {},
   "outputs": [],
   "source": [
    "a = np.array([[1,2],[3,4]])\n",
    "b = np.array([[4,5],[6,7]])\n",
    "\n",
    "c = np.hstack((a,b))\n",
    "\n",
    "c"
   ]
  },
  {
   "cell_type": "code",
   "execution_count": null,
   "id": "c984e367",
   "metadata": {},
   "outputs": [],
   "source": [
    "a = np.array([[1,2],[3,4]])\n",
    "b = np.array([[4,5],[6,7]])\n",
    "\n",
    "c = np.vstack((a,b))\n",
    "\n",
    "c"
   ]
  },
  {
   "cell_type": "code",
   "execution_count": null,
   "id": "5e81b809",
   "metadata": {},
   "outputs": [],
   "source": [
    "a = np.array([[1,2],[3,4]])\n",
    "b = np.array([[4,5],[6,7]])\n",
    "\n",
    "c = np.stack((a,b))\n",
    "\n",
    "c"
   ]
  },
  {
   "cell_type": "code",
   "execution_count": null,
   "id": "a1ae897a",
   "metadata": {},
   "outputs": [],
   "source": [
    "a = np.array([[1,2],[3,4]])\n",
    "b = np.array([[4,5],[6,7]])\n",
    "\n",
    "c = np.dstack((a,b))\n",
    "\n",
    "c"
   ]
  },
  {
   "cell_type": "markdown",
   "id": "5618e403",
   "metadata": {},
   "source": [
    "# Splititing"
   ]
  },
  {
   "cell_type": "code",
   "execution_count": null,
   "id": "ccd06c5b",
   "metadata": {},
   "outputs": [],
   "source": [
    "a = np.array([1,2,3,4])\n",
    "b = np.array_split(a,3)\n",
    "\n",
    "\n",
    "b"
   ]
  },
  {
   "cell_type": "code",
   "execution_count": null,
   "id": "2ff13ae3",
   "metadata": {},
   "outputs": [],
   "source": [
    "a = np.array([1,2,3,4])\n",
    "b = np.array_split(a,2)\n",
    "\n",
    "\n",
    "b"
   ]
  },
  {
   "cell_type": "code",
   "execution_count": null,
   "id": "ab230378",
   "metadata": {},
   "outputs": [],
   "source": [
    "a = np.array([[1,2],[3,4],[5,6]])\n",
    "b = np.array_split(a,2)\n",
    "b"
   ]
  },
  {
   "cell_type": "code",
   "execution_count": null,
   "id": "0ce26d84",
   "metadata": {},
   "outputs": [],
   "source": [
    "a = np.array([[1,2],[3,4],[5,6]])\n",
    "b = np.hsplit(a,2)\n",
    "b"
   ]
  },
  {
   "cell_type": "code",
   "execution_count": null,
   "id": "062e244b",
   "metadata": {},
   "outputs": [],
   "source": [
    "a = np.array([[1,2],[3,4],[5,6]])\n",
    "b = np.vsplit(a,3)\n",
    "b"
   ]
  },
  {
   "cell_type": "code",
   "execution_count": null,
   "id": "0e46fc22",
   "metadata": {},
   "outputs": [],
   "source": []
  },
  {
   "attachments": {},
   "cell_type": "markdown",
   "id": "942e5901",
   "metadata": {},
   "source": [
    "# Searching the array"
   ]
  },
  {
   "cell_type": "code",
   "execution_count": null,
   "id": "69f6ef92",
   "metadata": {},
   "outputs": [],
   "source": [
    "import numpy as np\n",
    "\n",
    "a = np.array([1,2,3,4,5,6])\n",
    "\n",
    "b = np.where ( a == 4)\n",
    "\n",
    "b"
   ]
  },
  {
   "cell_type": "code",
   "execution_count": null,
   "id": "591d333a",
   "metadata": {},
   "outputs": [],
   "source": [
    "import numpy as np\n",
    "\n",
    "a = np.array([1,2,3,4,5,6])\n",
    "\n",
    "b = np.where ( a%2 == 0) #to find the even postions\n",
    "\n",
    "b"
   ]
  },
  {
   "cell_type": "code",
   "execution_count": null,
   "id": "8528a178",
   "metadata": {},
   "outputs": [],
   "source": [
    "import numpy as np\n",
    "\n",
    "a = np.array([1,2,3,4,5,6])\n",
    "\n",
    "b = np.where ( a%2 != 0) #to find the odd postions\n",
    "\n",
    "b"
   ]
  },
  {
   "cell_type": "code",
   "execution_count": null,
   "id": "b2d5c6fc",
   "metadata": {},
   "outputs": [],
   "source": [
    "import numpy as np\n",
    "\n",
    "a = np.array([1,2,3,4,5,6])\n",
    "\n",
    "b = np.where ( a%3 == 0) #to find the multiplied by 3 postions\n",
    "\n",
    "b"
   ]
  },
  {
   "cell_type": "code",
   "execution_count": null,
   "id": "88011346",
   "metadata": {},
   "outputs": [],
   "source": [
    "import numpy as np\n",
    "\n",
    "a = np.array([1,2,3,4,5,6])\n",
    "\n",
    "b = np.searchsorted(a,3) #to add the 3 and find the postion after adding\n",
    "\n",
    "b"
   ]
  },
  {
   "attachments": {},
   "cell_type": "markdown",
   "id": "4f38225c",
   "metadata": {},
   "source": [
    "# ctrl + shift + p (to view the kernal)"
   ]
  },
  {
   "attachments": {},
   "cell_type": "markdown",
   "id": "28897e46",
   "metadata": {},
   "source": [
    "# steps to install numpy in vscode\n",
    "\n",
    "### step 0: open the folder from vscode where we save notebook\n",
    "### step 1: go to cmd in terminal\n",
    "### step 2: create environment by cmd: python -m venv sai\n",
    "### step 3: choose the kernal by opening a new file ->jupyter->python\n",
    "### step 4: sai\\scripts\\activate\n",
    "### step 5: pip install --upgrade pip\n",
    "### step 6: pip install numpy\n",
    "### step 7: always use the karnel selected to use numpy"
   ]
  },
  {
   "cell_type": "code",
   "execution_count": null,
   "id": "e931207c",
   "metadata": {},
   "outputs": [],
   "source": [
    "import numpy as np\n",
    "\n",
    "a = np.array([1,2,3,4,5,6])\n",
    "\n",
    "b = np.searchsorted(a,7) #to add the 7 and find the postion after adding\n",
    "\n",
    "b"
   ]
  },
  {
   "cell_type": "markdown",
   "id": "110010ef",
   "metadata": {},
   "source": [
    "arrray looks from left to right"
   ]
  },
  {
   "cell_type": "code",
   "execution_count": null,
   "id": "de1d8698",
   "metadata": {},
   "outputs": [],
   "source": [
    "import numpy as np\n",
    "\n",
    "a = np.array([1,2,3,4,5,6])\n",
    "\n",
    "b = np.searchsorted(a,2) #to add the 2 and find the postion after adding\n",
    "\n",
    "b"
   ]
  },
  {
   "cell_type": "code",
   "execution_count": null,
   "id": "dcdc825d",
   "metadata": {},
   "outputs": [],
   "source": [
    "import numpy as np\n",
    "\n",
    "a = np.array([1,2,3,4,5,6])\n",
    "\n",
    "b = np.searchsorted(a,4, side = 'right') #to add the 4 and find the postion after adding on the right\n",
    "\n",
    "b"
   ]
  },
  {
   "cell_type": "code",
   "execution_count": null,
   "id": "5d981728",
   "metadata": {},
   "outputs": [],
   "source": [
    "import numpy as np\n",
    "\n",
    "a = np.array([1,2,3,4,5,6])\n",
    "\n",
    "b = np.searchsorted(a,[3,5]) #to add the 3,5 same time and find the postion after adding\n",
    "\n",
    "b"
   ]
  },
  {
   "cell_type": "code",
   "execution_count": null,
   "id": "afb81a77",
   "metadata": {},
   "outputs": [],
   "source": []
  },
  {
   "attachments": {},
   "cell_type": "markdown",
   "id": "ce59c56e",
   "metadata": {},
   "source": [
    "# Sorting the array"
   ]
  },
  {
   "cell_type": "code",
   "execution_count": null,
   "id": "e8b22559",
   "metadata": {},
   "outputs": [],
   "source": [
    "a = np.array([1,2,15,4,9,6])\n",
    "\n",
    "a = np.sort(a)\n",
    "\n",
    "a"
   ]
  },
  {
   "cell_type": "code",
   "execution_count": null,
   "id": "93458370",
   "metadata": {},
   "outputs": [],
   "source": [
    "a = np.array(['apple','Mango','Banana'])\n",
    "\n",
    "a = np.sort(a)\n",
    "\n",
    "a"
   ]
  },
  {
   "cell_type": "code",
   "execution_count": null,
   "id": "4e6d2a1b",
   "metadata": {},
   "outputs": [],
   "source": [
    "a = np.array([[2,1],[4,3]])\n",
    "\n",
    "a = np.sort(a)\n",
    "\n",
    "a"
   ]
  },
  {
   "cell_type": "code",
   "execution_count": null,
   "id": "a0549025",
   "metadata": {},
   "outputs": [],
   "source": [
    "a = np.array([2,1,4,3])\n",
    "\n",
    "a = np.sort(a) #sort in the reverse order\n",
    "a[::-1]\n"
   ]
  },
  {
   "cell_type": "code",
   "execution_count": null,
   "id": "faf22b73",
   "metadata": {},
   "outputs": [],
   "source": [
    "a = np.array([2,1,4,3])\n",
    "\n",
    "a = -np.sort(-a) #sort in the reverse order\n",
    "a"
   ]
  },
  {
   "cell_type": "markdown",
   "id": "105d3472",
   "metadata": {},
   "source": [
    "# Filtering"
   ]
  },
  {
   "cell_type": "code",
   "execution_count": null,
   "id": "04e6c8c3",
   "metadata": {},
   "outputs": [],
   "source": [
    "a = np.array([3,4,2,1])\n",
    "b = np.array([True,False,False,True])\n",
    "\n",
    "a = a[b]\n",
    "\n",
    "a"
   ]
  },
  {
   "cell_type": "code",
   "execution_count": null,
   "id": "3b4d864c",
   "metadata": {},
   "outputs": [],
   "source": [
    "a = np.array([3,4,2,1])\n",
    "\n",
    "b = []\n",
    "\n",
    "for i in a:\n",
    "    if i%2 == 0:\n",
    "        b.append(i)\n",
    "print(b)"
   ]
  },
  {
   "cell_type": "code",
   "execution_count": null,
   "id": "336bb8c7",
   "metadata": {},
   "outputs": [],
   "source": [
    "a = np.array([3,4,2,1])\n",
    "\n",
    "\n",
    "b = a%2 == 0\n",
    "\n",
    "print(b)\n",
    "print(a[b]) "
   ]
  },
  {
   "cell_type": "markdown",
   "id": "8c792aad",
   "metadata": {},
   "source": [
    "# How to create a range in numpy\n"
   ]
  },
  {
   "cell_type": "code",
   "execution_count": null,
   "id": "66de0742",
   "metadata": {},
   "outputs": [],
   "source": [
    "a = np.arange(1,100)\n",
    "a"
   ]
  },
  {
   "cell_type": "code",
   "execution_count": null,
   "id": "24769503",
   "metadata": {},
   "outputs": [],
   "source": [
    "a = np.arange(1,100,10)\n",
    "a"
   ]
  },
  {
   "cell_type": "markdown",
   "id": "fff0b3df",
   "metadata": {},
   "source": [
    "Q1) write a program to create an array from values 2 to 50 and convert this array into a 2 dim with size(2,25)"
   ]
  },
  {
   "cell_type": "code",
   "execution_count": null,
   "id": "5ee11f63",
   "metadata": {},
   "outputs": [],
   "source": [
    "a = np.arange(1,51)\n",
    "a = a.reshape(2,25)\n",
    "a"
   ]
  },
  {
   "cell_type": "markdown",
   "id": "0eea6f99",
   "metadata": {},
   "source": [
    "Q2) a = np.array([10,20,10,10,30,20]) create another array with unique values"
   ]
  },
  {
   "cell_type": "code",
   "execution_count": null,
   "id": "3d8bc8e0",
   "metadata": {},
   "outputs": [],
   "source": [
    "a = np.array([10,20,10,10,30,20])\n",
    "b = []\n",
    "for i in a:\n",
    "    if i not in b:\n",
    "        b.append(i)\n",
    "b"
   ]
  },
  {
   "cell_type": "markdown",
   "id": "2d652348",
   "metadata": {},
   "source": [
    "a = np.array([10,20,10,10,30,20])\n",
    "b = np.unique(a)\n",
    "b"
   ]
  },
  {
   "cell_type": "markdown",
   "id": "5d444566",
   "metadata": {},
   "source": [
    "Q3) a = np.array([1,2,3,4])\n",
    "n =3\n",
    "create an array with n times"
   ]
  },
  {
   "cell_type": "code",
   "execution_count": 6,
   "id": "e267a382",
   "metadata": {},
   "outputs": [
    {
     "data": {
      "text/plain": [
       "[1, 2, 3, 4, 1, 2, 3, 4, 1, 2, 3, 4]"
      ]
     },
     "execution_count": 6,
     "metadata": {},
     "output_type": "execute_result"
    }
   ],
   "source": [
    "import numpy as np\n",
    "a = np.array([1,2,3,4])\n",
    "n =3\n",
    "b = []\n",
    "x = 1\n",
    "while x<=3:\n",
    "    for i in a:\n",
    "        b.append(i)\n",
    "    x = x+1\n",
    "b"
   ]
  },
  {
   "cell_type": "code",
   "execution_count": 7,
   "id": "89658d87",
   "metadata": {},
   "outputs": [
    {
     "data": {
      "text/plain": [
       "[1, 2, 3, 4, 1, 2, 3, 4, 1, 2, 3, 4]"
      ]
     },
     "execution_count": 7,
     "metadata": {},
     "output_type": "execute_result"
    }
   ],
   "source": [
    "import numpy as np\n",
    "a = np.array([1,2,3,4])\n",
    "n =3\n",
    "b = []\n",
    "x = 1\n",
    "for x in range(3):\n",
    "    for i in a:\n",
    "        b.append(i)\n",
    "b"
   ]
  },
  {
   "cell_type": "code",
   "execution_count": 5,
   "id": "6a5a1fe0",
   "metadata": {},
   "outputs": [
    {
     "data": {
      "text/plain": [
       "array([1, 2, 3, 4, 1, 2, 3, 4, 1, 2, 3, 4])"
      ]
     },
     "execution_count": 5,
     "metadata": {},
     "output_type": "execute_result"
    }
   ],
   "source": [
    "import numpy as np\n",
    "a = np.array([1,2,3,4])\n",
    "b = np.tile(a,n)\n",
    "b"
   ]
  },
  {
   "cell_type": "code",
   "execution_count": 12,
   "id": "34e9e9b8",
   "metadata": {},
   "outputs": [
    {
     "data": {
      "text/plain": [
       "[2, 0, 2, 0, 0, 1]"
      ]
     },
     "execution_count": 12,
     "metadata": {},
     "output_type": "execute_result"
    }
   ],
   "source": [
    "a  = np.array([32,30,41,42,72,79])\n",
    "\n",
    "n = 3\n",
    "\n",
    "b = []\n",
    "\n",
    "for i in a:\n",
    "    b.append(i%n)\n",
    "b"
   ]
  },
  {
   "cell_type": "code",
   "execution_count": null,
   "id": "b8fb99ce",
   "metadata": {},
   "outputs": [],
   "source": []
  },
  {
   "cell_type": "code",
   "execution_count": null,
   "id": "c5ef9207",
   "metadata": {},
   "outputs": [],
   "source": []
  },
  {
   "cell_type": "code",
   "execution_count": null,
   "id": "92130b34",
   "metadata": {},
   "outputs": [],
   "source": []
  }
 ],
 "metadata": {
  "kernelspec": {
   "display_name": "Python 3",
   "language": "python",
   "name": "python3"
  },
  "language_info": {
   "codemirror_mode": {
    "name": "ipython",
    "version": 3
   },
   "file_extension": ".py",
   "mimetype": "text/x-python",
   "name": "python",
   "nbconvert_exporter": "python",
   "pygments_lexer": "ipython3",
   "version": "3.10.8"
  },
  "vscode": {
   "interpreter": {
    "hash": "f283d647466681c4a369d51ee8ef21b4458af55d33b8395b36850f8fccd3de95"
   }
  }
 },
 "nbformat": 4,
 "nbformat_minor": 5
}
